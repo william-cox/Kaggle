{
 "cells": [
  {
   "cell_type": "code",
   "execution_count": 29,
   "metadata": {
    "collapsed": true
   },
   "outputs": [],
   "source": [
    "#import libraries\n",
    "import datetime\n",
    "import numpy as np\n",
    "import pandas as pd\n",
    "pd.set_option('display.float_format', lambda x: '%.3f' % x)\n",
    "\n",
    "from sklearn.preprocessing import StandardScaler,LabelEncoder\n",
    "from sklearn.model_selection import train_test_split\n",
    "\n",
    "import matplotlib.pyplot as plt\n",
    "%matplotlib inline\n",
    "\n",
    "import seaborn as sns\n",
    "sns.set_style('whitegrid')\n",
    "\n",
    "from xgboost import XGBClassifier\n",
    "\n",
    "from sklearn.ensemble import RandomForestClassifier\n",
    "from sklearn.ensemble import AdaBoostClassifier\n",
    "from sklearn.ensemble import GradientBoostingClassifier\n",
    "\n",
    "from sklearn import model_selection\n",
    "from sklearn.metrics import mean_squared_error\n",
    "from sklearn.model_selection import GridSearchCV"
   ]
  },
  {
   "cell_type": "code",
   "execution_count": 30,
   "metadata": {
    "collapsed": true
   },
   "outputs": [],
   "source": [
    "#load data\n",
    "cleaned = pd.read_csv('clean_train.csv', index_col=0)\n",
    "cleaned_test = pd.read_csv('clean_test.csv', index_col=0)\n",
    "\n",
    "X_ = cleaned.drop(['OutcomeType','OutcomeSubtype','AnimalID'], axis=1)\n",
    "y_ = cleaned[['OutcomeType']]\n",
    "\n",
    "X_TEST = cleaned_test.drop('ID', axis=1)\n",
    "X_TEST_ids = cleaned_test['ID']"
   ]
  },
  {
   "cell_type": "code",
   "execution_count": 31,
   "metadata": {},
   "outputs": [
    {
     "data": {
      "text/plain": [
       "True"
      ]
     },
     "execution_count": 31,
     "metadata": {},
     "output_type": "execute_result"
    }
   ],
   "source": [
    "#sanity check -- ensure that train and test datasets have the same features\n",
    "list(X_.columns) == list(X_TEST.columns)"
   ]
  },
  {
   "cell_type": "code",
   "execution_count": 32,
   "metadata": {
    "collapsed": true
   },
   "outputs": [],
   "source": [
    "#TRAIN\n",
    "#scale age\n",
    "scaler = StandardScaler()\n",
    "age = scaler.fit_transform(X_['Age'].values.reshape(-1,1))\n",
    "age = pd.DataFrame(age.reshape(-1))\n",
    "age.columns = ['age_scaled']\n",
    "\n",
    "#replace 'Age' with 'age_scaled'\n",
    "X = pd.concat([X_, age], axis=1) #add scaled age\n",
    "X = X.drop('Age', axis=1) #drop unscaled age"
   ]
  },
  {
   "cell_type": "code",
   "execution_count": 33,
   "metadata": {
    "collapsed": true
   },
   "outputs": [],
   "source": [
    "#TEST\n",
    "#scale age for TEST\n",
    "scaler = StandardScaler()\n",
    "test_age = scaler.fit_transform(X_TEST['Age'].values.reshape(-1,1))\n",
    "test_age = pd.DataFrame(test_age.reshape(-1))\n",
    "test_age.columns = ['age_scaled']\n",
    "\n",
    "#replace 'Age' with 'age_scaled' for TEST\n",
    "X_test = pd.concat([X_TEST, test_age], axis=1) #add scaled age\n",
    "X_test = X_test.drop('Age', axis=1) #drop unscaled age"
   ]
  },
  {
   "cell_type": "code",
   "execution_count": 34,
   "metadata": {
    "collapsed": true
   },
   "outputs": [],
   "source": [
    "#X = X.replace(0, -1) #replace binary dummy variables with -1 to match the scaling of age\n",
    "#X = X.replace(0, -1) #replace binary dummy variables with -1 to match the scaling of age\n",
    "\n",
    "#format as float numpy arrays\n",
    "X = np.asarray(X, dtype='float')\n",
    "X_TEST = np.asarray(X_TEST, dtype='float')"
   ]
  },
  {
   "cell_type": "code",
   "execution_count": 35,
   "metadata": {},
   "outputs": [
    {
     "name": "stderr",
     "output_type": "stream",
     "text": [
      "C:\\Users\\Will\\Anaconda3\\envs\\py35\\lib\\site-packages\\sklearn\\preprocessing\\label.py:111: DataConversionWarning: A column-vector y was passed when a 1d array was expected. Please change the shape of y to (n_samples, ), for example using ravel().\n",
      "  y = column_or_1d(y, warn=True)\n"
     ]
    }
   ],
   "source": [
    "#encode target labels\n",
    "encodr = LabelEncoder()\n",
    "y = encodr.fit_transform(y_)"
   ]
  },
  {
   "cell_type": "code",
   "execution_count": 36,
   "metadata": {
    "collapsed": true
   },
   "outputs": [],
   "source": [
    "#cross-validation split\n",
    "X_train, X_test, y_train, y_test = train_test_split(X, y, test_size=.3)"
   ]
  },
  {
   "cell_type": "markdown",
   "metadata": {},
   "source": [
    "### Initial Test"
   ]
  },
  {
   "cell_type": "code",
   "execution_count": 37,
   "metadata": {
    "collapsed": true
   },
   "outputs": [],
   "source": [
    "# prepare models\n",
    "models = []\n",
    "models.append(('RandomForestClassifier', RandomForestClassifier()))\n",
    "models.append(('AdaBoostClassifier', AdaBoostClassifier()))\n",
    "models.append(('GradientBoostingClassifier', GradientBoostingClassifier()))\n",
    "models.append(('XGBoost', XGBClassifier()))"
   ]
  },
  {
   "cell_type": "code",
   "execution_count": 38,
   "metadata": {
    "collapsed": true
   },
   "outputs": [],
   "source": [
    "#prepare archives for saving results\n",
    "results = []\n",
    "names = []\n",
    "preds = []\n",
    "scoring = 'neg_log_loss'"
   ]
  },
  {
   "cell_type": "code",
   "execution_count": 39,
   "metadata": {},
   "outputs": [
    {
     "name": "stdout",
     "output_type": "stream",
     "text": [
      "------------------------------\n",
      "K-Fold Cross-Validation: neg_log_loss\n",
      "------------------------------\n",
      "RandomForestClassifier: 3.949382 (0.226666)\n",
      "AdaBoostClassifier: 1.553059 (0.001944)\n",
      "GradientBoostingClassifier: 0.885903 (0.027905)\n",
      "XGBoost: 0.879822 (0.020912)\n"
     ]
    },
    {
     "data": {
      "text/plain": [
       "<matplotlib.text.Text at 0x19dd0258b70>"
      ]
     },
     "execution_count": 39,
     "metadata": {},
     "output_type": "execute_result"
    },
    {
     "data": {
      "image/png": "[encoded data removed]",
      "text/plain": [
       "<matplotlib.figure.Figure at 0x19dd0135160>"
      ]
     },
     "metadata": {},
     "output_type": "display_data"
    }
   ],
   "source": [
    "print('-'*30)\n",
    "print('K-Fold Cross-Validation: {}'.format(scoring))\n",
    "print('-'*30)\n",
    "\n",
    "#Test the performance of each model against the data, using k-fold cross-validation\n",
    "for name, model in models:\n",
    "\n",
    "    kfold = model_selection.KFold(n_splits=10, random_state=7) #prepare K-fold CV\n",
    "    cv_results = model_selection.cross_val_score(model, X_train, y_train, cv=kfold, scoring=scoring) #cross-validate model using K-fold CV\n",
    "    cv_results = [abs(result) for result in cv_results] \n",
    "    cv_results = pd.Series(cv_results)\n",
    "    results.append(cv_results)\n",
    "    names.append(name)\n",
    "    msg = \"%s: %f (%f)\" % (name, cv_results.mean(), cv_results.std())\n",
    "    print(msg)\n",
    "    \n",
    "#plot results\n",
    "df = pd.DataFrame(results, names).T\n",
    "summary = df.mean(axis=0).sort_values(ascending=True)\n",
    "order = list(summary.index)\n",
    "df = df[order]\n",
    "\n",
    "viz = df.plot(kind='box',\n",
    "              title='K-Fold Cross-Validation',\n",
    "              figsize=(15,7.5))\n",
    "viz.set_ylabel('{}'.format(scoring))\n",
    "\n",
    "#f = viz.get_figure()\n",
    "#plt.savefig('CV_results.png')"
   ]
  },
  {
   "cell_type": "code",
   "execution_count": 43,
   "metadata": {},
   "outputs": [
    {
     "data": {
      "text/plain": [
       "<matplotlib.text.Text at 0x19dd04ac630>"
      ]
     },
     "execution_count": 43,
     "metadata": {},
     "output_type": "execute_result"
    },
    {
     "data": {
      "image/png": "[encoded data removed]",
      "text/plain": [
       "<matplotlib.figure.Figure at 0x19dd0271a90>"
      ]
     },
     "metadata": {},
     "output_type": "display_data"
    }
   ],
   "source": [
    "viz1 = df[['XGBoost','GradientBoostingClassifier']].plot(kind='box',\n",
    "                                                       title='K-Fold Cross-Validation',\n",
    "                                                       figsize=(15,7.5))\n",
    "viz1.set_ylabel('{}'.format(scoring))"
   ]
  }
 ],
 "metadata": {
  "kernelspec": {
   "display_name": "Python 3",
   "language": "python",
   "name": "python3"
  },
  "language_info": {
   "codemirror_mode": {
    "name": "ipython",
    "version": 3
   },
   "file_extension": ".py",
   "mimetype": "text/x-python",
   "name": "python",
   "nbconvert_exporter": "python",
   "pygments_lexer": "ipython3",
   "version": "3.6.2"
  }
 },
 "nbformat": 4,
 "nbformat_minor": 2
}
