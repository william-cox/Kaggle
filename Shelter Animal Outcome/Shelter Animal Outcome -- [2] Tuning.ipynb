{
 "cells": [
  {
   "cell_type": "code",
   "execution_count": 1,
   "metadata": {},
   "outputs": [
    {
     "name": "stderr",
     "output_type": "stream",
     "text": [
      "C:\\Users\\Will\\Anaconda3\\envs\\py35\\lib\\site-packages\\sklearn\\cross_validation.py:41: DeprecationWarning: This module was deprecated in version 0.18 in favor of the model_selection module into which all the refactored classes and functions are moved. Also note that the interface of the new CV iterators are different from that of this module. This module will be removed in 0.20.\n",
      "  \"This module will be removed in 0.20.\", DeprecationWarning)\n"
     ]
    }
   ],
   "source": [
    "#import libraries\n",
    "import numpy as np\n",
    "import pandas as pd\n",
    "pd.set_option('display.float_format', lambda x: '%.3f' % x)\n",
    "\n",
    "from sklearn.preprocessing import StandardScaler,LabelEncoder\n",
    "from sklearn.model_selection import train_test_split\n",
    "from sklearn.metrics import log_loss\n",
    "\n",
    "import matplotlib.pyplot as plt\n",
    "import seaborn as sns\n",
    "sns.set_style('whitegrid')\n",
    "%matplotlib inline\n",
    "\n",
    "from xgboost import XGBClassifier\n",
    "from sklearn import model_selection\n",
    "from sklearn.model_selection import GridSearchCV"
   ]
  },
  {
   "cell_type": "code",
   "execution_count": null,
   "metadata": {
    "collapsed": true
   },
   "outputs": [],
   "source": [
    "def summary(grid_result, printing=False):\n",
    "    #summarize results\n",
    "    \n",
    "    means = grid_result.cv_results_['mean_test_score']\n",
    "    stds = grid_result.cv_results_['std_test_score']\n",
    "    params = grid_result.cv_results_['params']\n",
    "    \n",
    "    if printing:\n",
    "        print(\"Best: %f using %s\" % (grid_result.best_score_, grid_result.best_params_))\n",
    "        for mean, stdev, param in zip(means, stds, params):\n",
    "            print(\"%f (%f) with: %r\" % (mean, stdev, param))\n",
    "        \n",
    "    summary = pd.concat([pd.Series(means, name=\"mean\"), pd.Series(stds, name='std'), pd.DataFrame(params)], axis=1)\n",
    "    summary = summary.sort_values('mean',ascending=False)\n",
    "    return summary"
   ]
  },
  {
   "cell_type": "markdown",
   "metadata": {},
   "source": [
    "## Load Data"
   ]
  },
  {
   "cell_type": "code",
   "execution_count": 3,
   "metadata": {
    "collapsed": true
   },
   "outputs": [],
   "source": [
    "#load data\n",
    "cleaned = pd.read_csv('clean_train_v2.csv', index_col=0)\n",
    "cleaned_test = pd.read_csv('clean_test_v2.csv', index_col=0)\n",
    "\n",
    "#create feature/target sets\n",
    "X_ = cleaned.drop(['OutcomeType','OutcomeSubtype','AnimalID'], axis=1)\n",
    "y_ = cleaned[['OutcomeType']]\n",
    "\n",
    "#drop/save test IDs for later\n",
    "X_TEST = cleaned_test.drop('ID', axis=1)\n",
    "X_TEST_ids = cleaned_test['ID']"
   ]
  },
  {
   "cell_type": "code",
   "execution_count": 4,
   "metadata": {},
   "outputs": [
    {
     "data": {
      "text/plain": [
       "True"
      ]
     },
     "execution_count": 4,
     "metadata": {},
     "output_type": "execute_result"
    }
   ],
   "source": [
    "#sanity check -- ensure that train and test datasets have the same features\n",
    "list(X_.columns) == list(X_TEST.columns)"
   ]
  },
  {
   "cell_type": "markdown",
   "metadata": {},
   "source": [
    "#### Standardize Age"
   ]
  },
  {
   "cell_type": "code",
   "execution_count": 5,
   "metadata": {
    "collapsed": true
   },
   "outputs": [],
   "source": [
    "#TRAIN\n",
    "#scale age\n",
    "scaler = StandardScaler()\n",
    "age = scaler.fit_transform(X_['Age'].values.reshape(-1,1))\n",
    "age = pd.DataFrame(age.reshape(-1))\n",
    "age.columns = ['age_scaled']\n",
    "\n",
    "#replace 'Age' with 'age_scaled'\n",
    "X = pd.concat([X_, age], axis=1) #add scaled age\n",
    "X = X.drop('Age', axis=1) #drop unscaled age"
   ]
  },
  {
   "cell_type": "code",
   "execution_count": 6,
   "metadata": {
    "collapsed": true
   },
   "outputs": [],
   "source": [
    "#TEST\n",
    "#scale age for TEST\n",
    "scaler = StandardScaler()\n",
    "test_age = scaler.fit_transform(X_TEST['Age'].values.reshape(-1,1))\n",
    "test_age = pd.DataFrame(test_age.reshape(-1))\n",
    "test_age.columns = ['age_scaled']\n",
    "\n",
    "#replace 'Age' with 'age_scaled' for TEST\n",
    "X_test = pd.concat([X_TEST, test_age], axis=1) #add scaled age\n",
    "X_test = X_test.drop('Age', axis=1) #drop unscaled age"
   ]
  },
  {
   "cell_type": "markdown",
   "metadata": {},
   "source": [
    "#### Convert to arrays"
   ]
  },
  {
   "cell_type": "code",
   "execution_count": 7,
   "metadata": {
    "collapsed": true
   },
   "outputs": [],
   "source": [
    "#format as float numpy arrays\n",
    "X = np.asarray(X, dtype='float')\n",
    "X_TEST = np.asarray(X_TEST, dtype='float')"
   ]
  },
  {
   "cell_type": "markdown",
   "metadata": {},
   "source": [
    "#### Encode target labels"
   ]
  },
  {
   "cell_type": "code",
   "execution_count": 8,
   "metadata": {},
   "outputs": [
    {
     "name": "stderr",
     "output_type": "stream",
     "text": [
      "C:\\Users\\Will\\Anaconda3\\envs\\py35\\lib\\site-packages\\sklearn\\preprocessing\\label.py:111: DataConversionWarning: A column-vector y was passed when a 1d array was expected. Please change the shape of y to (n_samples, ), for example using ravel().\n",
      "  y = column_or_1d(y, warn=True)\n"
     ]
    }
   ],
   "source": [
    "#encode target labels\n",
    "encodr = LabelEncoder()\n",
    "y = encodr.fit_transform(y_)"
   ]
  },
  {
   "cell_type": "markdown",
   "metadata": {},
   "source": [
    "#### Cross-Validation Split"
   ]
  },
  {
   "cell_type": "code",
   "execution_count": 9,
   "metadata": {
    "collapsed": true
   },
   "outputs": [],
   "source": [
    "#cross-validation split\n",
    "X_train, X_test, y_train, y_test = train_test_split(X, y, test_size=.3)"
   ]
  },
  {
   "cell_type": "markdown",
   "metadata": {},
   "source": [
    "## Baseline Model\n",
    "\n",
    "First, we will define a few general parameters."
   ]
  },
  {
   "cell_type": "code",
   "execution_count": 10,
   "metadata": {
    "collapsed": true
   },
   "outputs": [],
   "source": [
    "#set seed\n",
    "seed = 7\n",
    "\n",
    "#define scoring metric\n",
    "scoring = 'neg_log_loss'\n",
    "\n",
    "#define kfold with k=10\n",
    "kfold = model_selection.KFold(n_splits=10, random_state=seed) #prepare K-fold CV"
   ]
  },
  {
   "cell_type": "markdown",
   "metadata": {},
   "source": [
    "Now we will define our first model specific parameter -- the objective function. \n",
    "\n",
    "In this case, I am choosing the 'softmax' function, for multi-class classification."
   ]
  },
  {
   "cell_type": "code",
   "execution_count": 11,
   "metadata": {
    "collapsed": true
   },
   "outputs": [],
   "source": [
    "#define independent parameters\n",
    "indie_params = {'objective': 'multi:softmax'}"
   ]
  },
  {
   "cell_type": "code",
   "execution_count": 12,
   "metadata": {},
   "outputs": [
    {
     "name": "stdout",
     "output_type": "stream",
     "text": [
      "XGBoost: 0.848218 (0.012015)\n"
     ]
    }
   ],
   "source": [
    "#build baseline model\n",
    "model = XGBClassifier(**indie_params)\n",
    "\n",
    "#cross-validation\n",
    "cv_results = model_selection.cross_val_score(model, X_train, y_train, cv=kfold, scoring=scoring) #cross-validate model using K-fold CV\n",
    "cv_results = [abs(result) for result in cv_results] #take absolute value b/c scoring is negative log-loss\n",
    "cv_results = pd.Series(cv_results)\n",
    "\n",
    "#print CV estimate\n",
    "msg = \"%s: %f (%f)\" % ('XGBoost', cv_results.mean(), cv_results.std())\n",
    "print(msg)"
   ]
  },
  {
   "cell_type": "markdown",
   "metadata": {},
   "source": [
    "## Tuning\n",
    "\n",
    "Now that we are beginning to tune our model, let's adjust our kfold to k=5.\n",
    "\n",
    "We will be buiding thousands of models here, so reducing k is a more computationally efficient way of getting our estimates.\n",
    "\n",
    "To be more specific, reducing k to 5 halves the number of models built, and thereby (approx.) halves the time spent waiting on models to train."
   ]
  },
  {
   "cell_type": "code",
   "execution_count": 13,
   "metadata": {
    "collapsed": true
   },
   "outputs": [],
   "source": [
    "#redefine kfold with k=5\n",
    "kfold = model_selection.KFold(n_splits=5, random_state=seed)"
   ]
  },
  {
   "cell_type": "markdown",
   "metadata": {},
   "source": [
    "### Tune 'learning_rate' and 'n_estimators'\n",
    "\n",
    "The first two parameters to tune with XGBoost are essential to this algorithm.\n",
    "\n",
    "These need to be tuned together, in order to find a decent starting point."
   ]
  },
  {
   "cell_type": "code",
   "execution_count": 14,
   "metadata": {
    "collapsed": true
   },
   "outputs": [],
   "source": [
    "#define independent parameters\n",
    "indie_params = {'objective': 'multi:softmax'}"
   ]
  },
  {
   "cell_type": "code",
   "execution_count": 15,
   "metadata": {
    "collapsed": true
   },
   "outputs": [],
   "source": [
    "#define parameter search grid\n",
    "param_grid ={'n_estimators':[100, 200, 300, 400, 500],\n",
    "             'learning_rate':[0.0001, 0.001, 0.01, 0.1, 0.2, 0.3]}"
   ]
  },
  {
   "cell_type": "code",
   "execution_count": 30,
   "metadata": {},
   "outputs": [
    {
     "data": {
      "text/html": [
       "<div>\n",
       "<style>\n",
       "    .dataframe thead tr:only-child th {\n",
       "        text-align: right;\n",
       "    }\n",
       "\n",
       "    .dataframe thead th {\n",
       "        text-align: left;\n",
       "    }\n",
       "\n",
       "    .dataframe tbody tr th {\n",
       "        vertical-align: top;\n",
       "    }\n",
       "</style>\n",
       "<table border=\"1\" class=\"dataframe\">\n",
       "  <thead>\n",
       "    <tr style=\"text-align: right;\">\n",
       "      <th></th>\n",
       "      <th>mean</th>\n",
       "      <th>std</th>\n",
       "      <th>learning_rate</th>\n",
       "      <th>n_estimators</th>\n",
       "    </tr>\n",
       "  </thead>\n",
       "  <tbody>\n",
       "    <tr>\n",
       "      <th>25</th>\n",
       "      <td>-0.843</td>\n",
       "      <td>0.006</td>\n",
       "      <td>0.300</td>\n",
       "      <td>100</td>\n",
       "    </tr>\n",
       "    <tr>\n",
       "      <th>17</th>\n",
       "      <td>-0.844</td>\n",
       "      <td>0.006</td>\n",
       "      <td>0.100</td>\n",
       "      <td>300</td>\n",
       "    </tr>\n",
       "    <tr>\n",
       "      <th>20</th>\n",
       "      <td>-0.844</td>\n",
       "      <td>0.005</td>\n",
       "      <td>0.200</td>\n",
       "      <td>100</td>\n",
       "    </tr>\n",
       "    <tr>\n",
       "      <th>21</th>\n",
       "      <td>-0.844</td>\n",
       "      <td>0.007</td>\n",
       "      <td>0.200</td>\n",
       "      <td>200</td>\n",
       "    </tr>\n",
       "    <tr>\n",
       "      <th>16</th>\n",
       "      <td>-0.845</td>\n",
       "      <td>0.006</td>\n",
       "      <td>0.100</td>\n",
       "      <td>200</td>\n",
       "    </tr>\n",
       "    <tr>\n",
       "      <th>18</th>\n",
       "      <td>-0.845</td>\n",
       "      <td>0.006</td>\n",
       "      <td>0.100</td>\n",
       "      <td>400</td>\n",
       "    </tr>\n",
       "    <tr>\n",
       "      <th>19</th>\n",
       "      <td>-0.846</td>\n",
       "      <td>0.007</td>\n",
       "      <td>0.100</td>\n",
       "      <td>500</td>\n",
       "    </tr>\n",
       "    <tr>\n",
       "      <th>26</th>\n",
       "      <td>-0.846</td>\n",
       "      <td>0.007</td>\n",
       "      <td>0.300</td>\n",
       "      <td>200</td>\n",
       "    </tr>\n",
       "    <tr>\n",
       "      <th>22</th>\n",
       "      <td>-0.847</td>\n",
       "      <td>0.007</td>\n",
       "      <td>0.200</td>\n",
       "      <td>300</td>\n",
       "    </tr>\n",
       "    <tr>\n",
       "      <th>15</th>\n",
       "      <td>-0.849</td>\n",
       "      <td>0.005</td>\n",
       "      <td>0.100</td>\n",
       "      <td>100</td>\n",
       "    </tr>\n",
       "  </tbody>\n",
       "</table>\n",
       "</div>"
      ],
      "text/plain": [
       "     mean   std  learning_rate  n_estimators\n",
       "25 -0.843 0.006          0.300           100\n",
       "17 -0.844 0.006          0.100           300\n",
       "20 -0.844 0.005          0.200           100\n",
       "21 -0.844 0.007          0.200           200\n",
       "16 -0.845 0.006          0.100           200\n",
       "18 -0.845 0.006          0.100           400\n",
       "19 -0.846 0.007          0.100           500\n",
       "26 -0.846 0.007          0.300           200\n",
       "22 -0.847 0.007          0.200           300\n",
       "15 -0.849 0.005          0.100           100"
      ]
     },
     "execution_count": 30,
     "metadata": {},
     "output_type": "execute_result"
    }
   ],
   "source": [
    "#build model\n",
    "model = XGBClassifier(**indie_params)\n",
    "\n",
    "#grid search\n",
    "grid_search = GridSearchCV(model, param_grid, scoring=scoring, n_jobs=-1, cv=kfold)\n",
    "grid_result = grid_search.fit(X_train, y_train)\n",
    "\n",
    "#summarize results\n",
    "summary = summary(grid_result)\n",
    "summary.sort_values('mean',ascending=False)[:10]"
   ]
  },
  {
   "cell_type": "markdown",
   "metadata": {},
   "source": [
    "The top performing combination yielded a neg_log_loss of -0.843 using:\n",
    "\n",
    "{'learning_rate': 0.3, 'n_estimators': 100}\n",
    "\n",
    "That being said, we want the learning rate to be as small as possible. By looking at the top models, we see that the second best combination yielded a neg_log_loss of -0.844 using:\n",
    "\n",
    "{'learning_rate': 0.1, 'n_estimators': 300}\n",
    "\n",
    "In other words, we can get essentially the same performance using a better learning rate of 0.1 with 300 trees."
   ]
  },
  {
   "cell_type": "markdown",
   "metadata": {},
   "source": [
    "### Tune 'max_depth' and 'min_child_weight'\n",
    "\n",
    "These parameters add constraints on the architecture of the trees.\n",
    "\n",
    "'max_depth' is the maximum number of nodes allowed from the root to the farthest leaf of a tree. Deeper trees can model more complex relationships by adding more nodes, but as we go deeper, splits become less relevant and are sometimes only due to noise, causing the model to overfit.\n",
    "\n",
    "'min_child_weight' is the minimum weight (or number of samples if all samples have a weight of 1) required in order to create a new node in the tree. A smaller min_child_weight allows the algorithm to create children that correspond to fewer samples, thus allowing for more complex trees, but again, more likely to overfit.\n",
    "\n",
    "Thus, those parameters can be used to control the complexity of the trees. It is important to tune them together in order to find a good trade-off between model bias and variance"
   ]
  },
  {
   "cell_type": "code",
   "execution_count": 32,
   "metadata": {
    "collapsed": true
   },
   "outputs": [],
   "source": [
    "#update independent parameters\n",
    "indie_params = {'objective': 'multi:softmax',\n",
    "                'learning_rate': 0.1,\n",
    "                'n_estimators': 300}"
   ]
  },
  {
   "cell_type": "code",
   "execution_count": 33,
   "metadata": {
    "collapsed": true
   },
   "outputs": [],
   "source": [
    "#define parameter search grid\n",
    "param_grid = {'max_depth': [1,3,5,7,9],\n",
    "              'min_child_weight': [1,3,5]}"
   ]
  },
  {
   "cell_type": "code",
   "execution_count": 35,
   "metadata": {},
   "outputs": [
    {
     "data": {
      "text/html": [
       "<div>\n",
       "<style>\n",
       "    .dataframe thead tr:only-child th {\n",
       "        text-align: right;\n",
       "    }\n",
       "\n",
       "    .dataframe thead th {\n",
       "        text-align: left;\n",
       "    }\n",
       "\n",
       "    .dataframe tbody tr th {\n",
       "        vertical-align: top;\n",
       "    }\n",
       "</style>\n",
       "<table border=\"1\" class=\"dataframe\">\n",
       "  <thead>\n",
       "    <tr style=\"text-align: right;\">\n",
       "      <th></th>\n",
       "      <th>mean</th>\n",
       "      <th>std</th>\n",
       "      <th>max_depth</th>\n",
       "      <th>min_child_weight</th>\n",
       "    </tr>\n",
       "  </thead>\n",
       "  <tbody>\n",
       "    <tr>\n",
       "      <th>8</th>\n",
       "      <td>-0.843</td>\n",
       "      <td>0.008</td>\n",
       "      <td>5</td>\n",
       "      <td>5</td>\n",
       "    </tr>\n",
       "    <tr>\n",
       "      <th>7</th>\n",
       "      <td>-0.843</td>\n",
       "      <td>0.007</td>\n",
       "      <td>5</td>\n",
       "      <td>3</td>\n",
       "    </tr>\n",
       "    <tr>\n",
       "      <th>6</th>\n",
       "      <td>-0.843</td>\n",
       "      <td>0.007</td>\n",
       "      <td>5</td>\n",
       "      <td>1</td>\n",
       "    </tr>\n",
       "    <tr>\n",
       "      <th>5</th>\n",
       "      <td>-0.843</td>\n",
       "      <td>0.006</td>\n",
       "      <td>3</td>\n",
       "      <td>5</td>\n",
       "    </tr>\n",
       "    <tr>\n",
       "      <th>4</th>\n",
       "      <td>-0.844</td>\n",
       "      <td>0.005</td>\n",
       "      <td>3</td>\n",
       "      <td>3</td>\n",
       "    </tr>\n",
       "    <tr>\n",
       "      <th>3</th>\n",
       "      <td>-0.844</td>\n",
       "      <td>0.006</td>\n",
       "      <td>3</td>\n",
       "      <td>1</td>\n",
       "    </tr>\n",
       "    <tr>\n",
       "      <th>11</th>\n",
       "      <td>-0.853</td>\n",
       "      <td>0.010</td>\n",
       "      <td>7</td>\n",
       "      <td>5</td>\n",
       "    </tr>\n",
       "    <tr>\n",
       "      <th>9</th>\n",
       "      <td>-0.853</td>\n",
       "      <td>0.009</td>\n",
       "      <td>7</td>\n",
       "      <td>1</td>\n",
       "    </tr>\n",
       "    <tr>\n",
       "      <th>10</th>\n",
       "      <td>-0.854</td>\n",
       "      <td>0.009</td>\n",
       "      <td>7</td>\n",
       "      <td>3</td>\n",
       "    </tr>\n",
       "    <tr>\n",
       "      <th>2</th>\n",
       "      <td>-0.867</td>\n",
       "      <td>0.004</td>\n",
       "      <td>1</td>\n",
       "      <td>5</td>\n",
       "    </tr>\n",
       "  </tbody>\n",
       "</table>\n",
       "</div>"
      ],
      "text/plain": [
       "     mean   std  max_depth  min_child_weight\n",
       "8  -0.843 0.008          5                 5\n",
       "7  -0.843 0.007          5                 3\n",
       "6  -0.843 0.007          5                 1\n",
       "5  -0.843 0.006          3                 5\n",
       "4  -0.844 0.005          3                 3\n",
       "3  -0.844 0.006          3                 1\n",
       "11 -0.853 0.010          7                 5\n",
       "9  -0.853 0.009          7                 1\n",
       "10 -0.854 0.009          7                 3\n",
       "2  -0.867 0.004          1                 5"
      ]
     },
     "execution_count": 35,
     "metadata": {},
     "output_type": "execute_result"
    }
   ],
   "source": [
    "#build model\n",
    "model = XGBClassifier(**indie_params)\n",
    "\n",
    "#grid search\n",
    "grid_search = GridSearchCV(model, param_grid, scoring=scoring, n_jobs=3, cv=kfold)\n",
    "grid_result = grid_search.fit(X_train, y_train)\n",
    "\n",
    "#summarize results\n",
    "summary = summary(grid_result)\n",
    "summary.sort_values('mean',ascending=False)[:10]"
   ]
  },
  {
   "cell_type": "markdown",
   "metadata": {},
   "source": [
    "The top 4 performing combinations of 'max_depth' and 'min_child_weight' all have the same mean; that being said, we can tell that one combo is more consistent, by looking at standard deviation.  \n",
    "\n",
    "I am choosing the combination that produces the smallest mean and standard deviation at index 5:\n",
    "\n",
    "{'max_depth': 3, 'min_child_weight': 5}"
   ]
  },
  {
   "cell_type": "markdown",
   "metadata": {},
   "source": [
    "## Tune 'subsample' and 'colsample'\n",
    "\n",
    "These parameters control the sampling of the dataset that is done at each boosting round.\n",
    "\n",
    "Instead of using the whole training set every time, we can build a tree on slightly different data at each step, which makes it less likely to overfit to a single sample or feature.\n",
    "\n",
    "'subsample' corresponds to the fraction of observations (the rows) to subsample at each step. By default it is set to 1 meaning that we use all rows.\n",
    "\n",
    "'colsample_bytree' corresponds to the fraction of features (the columns) to use. By default it is set to 1 meaning that we will use all features."
   ]
  },
  {
   "cell_type": "code",
   "execution_count": 36,
   "metadata": {
    "collapsed": true
   },
   "outputs": [],
   "source": [
    "#update independent parameters\n",
    "indie_params = {'objective': 'multi:softmax',\n",
    "                'learning_rate': 0.1,\n",
    "                'n_estimators': 300,\n",
    "                'max_depth': 3,\n",
    "                'min_child_weight': 5}"
   ]
  },
  {
   "cell_type": "code",
   "execution_count": 37,
   "metadata": {
    "collapsed": true
   },
   "outputs": [],
   "source": [
    "#define parameter grid search\n",
    "param_grid = {'subsample':[0.7, 0.8, 0.9, 1.0],\n",
    "              'colsample_bytree':[0.7, 0.8, 0.9, 1.0]}"
   ]
  },
  {
   "cell_type": "code",
   "execution_count": null,
   "metadata": {
    "collapsed": true
   },
   "outputs": [],
   "source": [
    "#build model\n",
    "model = XGBClassifier(**indie_params)\n",
    "\n",
    "#grid search\n",
    "grid_search = GridSearchCV(model, param_grid, scoring=scoring, n_jobs=-1, cv=kfold)\n",
    "grid_result = grid_search.fit(X_train, y_train)"
   ]
  },
  {
   "cell_type": "code",
   "execution_count": 45,
   "metadata": {},
   "outputs": [
    {
     "data": {
      "text/html": [
       "<div>\n",
       "<style>\n",
       "    .dataframe thead tr:only-child th {\n",
       "        text-align: right;\n",
       "    }\n",
       "\n",
       "    .dataframe thead th {\n",
       "        text-align: left;\n",
       "    }\n",
       "\n",
       "    .dataframe tbody tr th {\n",
       "        vertical-align: top;\n",
       "    }\n",
       "</style>\n",
       "<table border=\"1\" class=\"dataframe\">\n",
       "  <thead>\n",
       "    <tr style=\"text-align: right;\">\n",
       "      <th></th>\n",
       "      <th>mean</th>\n",
       "      <th>std</th>\n",
       "      <th>colsample_bytree</th>\n",
       "      <th>subsample</th>\n",
       "    </tr>\n",
       "  </thead>\n",
       "  <tbody>\n",
       "    <tr>\n",
       "      <th>9</th>\n",
       "      <td>-0.841</td>\n",
       "      <td>0.007</td>\n",
       "      <td>0.900</td>\n",
       "      <td>0.800</td>\n",
       "    </tr>\n",
       "    <tr>\n",
       "      <th>2</th>\n",
       "      <td>-0.841</td>\n",
       "      <td>0.006</td>\n",
       "      <td>0.700</td>\n",
       "      <td>0.900</td>\n",
       "    </tr>\n",
       "    <tr>\n",
       "      <th>13</th>\n",
       "      <td>-0.841</td>\n",
       "      <td>0.007</td>\n",
       "      <td>1.000</td>\n",
       "      <td>0.800</td>\n",
       "    </tr>\n",
       "    <tr>\n",
       "      <th>14</th>\n",
       "      <td>-0.841</td>\n",
       "      <td>0.006</td>\n",
       "      <td>1.000</td>\n",
       "      <td>0.900</td>\n",
       "    </tr>\n",
       "    <tr>\n",
       "      <th>5</th>\n",
       "      <td>-0.841</td>\n",
       "      <td>0.007</td>\n",
       "      <td>0.800</td>\n",
       "      <td>0.800</td>\n",
       "    </tr>\n",
       "  </tbody>\n",
       "</table>\n",
       "</div>"
      ],
      "text/plain": [
       "     mean   std  colsample_bytree  subsample\n",
       "9  -0.841 0.007             0.900      0.800\n",
       "2  -0.841 0.006             0.700      0.900\n",
       "13 -0.841 0.007             1.000      0.800\n",
       "14 -0.841 0.006             1.000      0.900\n",
       "5  -0.841 0.007             0.800      0.800"
      ]
     },
     "execution_count": 45,
     "metadata": {},
     "output_type": "execute_result"
    }
   ],
   "source": [
    "means = grid_result.cv_results_['mean_test_score']\n",
    "stds = grid_result.cv_results_['std_test_score']\n",
    "params = grid_result.cv_results_['params']\n",
    "summary = pd.concat([pd.Series(means, name=\"mean\"), pd.Series(stds, name='std'), pd.DataFrame(params)], axis=1)\n",
    "summary = summary.sort_values('mean',ascending=False)\n",
    "summary.head()"
   ]
  },
  {
   "cell_type": "markdown",
   "metadata": {},
   "source": [
    "Above, we have our top 5 combinations of 'subsample' and 'colsample_bytree'.  \n",
    "\n",
    "Following the same logic as with the last set of hyperparameters, we want to minimize both mean and std. As such, we are left to choose between two options:\n",
    "\n",
    "{'subsample': 0.9, 'colsample_bytree': 1.0}\n",
    "\n",
    "{'subsample': 0.9, 'colsample_bytree': 0.7}\n",
    "\n",
    "For now, we will go with the first option.  If we see signs of overfitting, I may revisit this decision."
   ]
  },
  {
   "cell_type": "markdown",
   "metadata": {},
   "source": [
    "### xgboost_v1"
   ]
  },
  {
   "cell_type": "code",
   "execution_count": 36,
   "metadata": {
    "collapsed": true
   },
   "outputs": [],
   "source": [
    "#update independent parameters\n",
    "indie_params = {'objective': 'multi:softmax',\n",
    "                'learning_rate': 0.1,\n",
    "                'n_estimators': 300,\n",
    "                'max_depth': 3,\n",
    "                'min_child_weight': 5,\n",
    "                'subsample': 0.9,\n",
    "                'colsample_bytree': 1.0}"
   ]
  },
  {
   "cell_type": "code",
   "execution_count": 51,
   "metadata": {},
   "outputs": [
    {
     "data": {
      "text/html": [
       "<div>\n",
       "<style>\n",
       "    .dataframe thead tr:only-child th {\n",
       "        text-align: right;\n",
       "    }\n",
       "\n",
       "    .dataframe thead th {\n",
       "        text-align: left;\n",
       "    }\n",
       "\n",
       "    .dataframe tbody tr th {\n",
       "        vertical-align: top;\n",
       "    }\n",
       "</style>\n",
       "<table border=\"1\" class=\"dataframe\">\n",
       "  <thead>\n",
       "    <tr style=\"text-align: right;\">\n",
       "      <th></th>\n",
       "      <th>Adoption</th>\n",
       "      <th>Died</th>\n",
       "      <th>Euthanasia</th>\n",
       "      <th>Return_to_owner</th>\n",
       "      <th>Transfer</th>\n",
       "    </tr>\n",
       "    <tr>\n",
       "      <th>ID</th>\n",
       "      <th></th>\n",
       "      <th></th>\n",
       "      <th></th>\n",
       "      <th></th>\n",
       "      <th></th>\n",
       "    </tr>\n",
       "  </thead>\n",
       "  <tbody>\n",
       "    <tr>\n",
       "      <th>1</th>\n",
       "      <td>0.331</td>\n",
       "      <td>0.001</td>\n",
       "      <td>0.023</td>\n",
       "      <td>0.488</td>\n",
       "      <td>0.157</td>\n",
       "    </tr>\n",
       "    <tr>\n",
       "      <th>2</th>\n",
       "      <td>0.043</td>\n",
       "      <td>0.001</td>\n",
       "      <td>0.107</td>\n",
       "      <td>0.782</td>\n",
       "      <td>0.067</td>\n",
       "    </tr>\n",
       "    <tr>\n",
       "      <th>3</th>\n",
       "      <td>0.163</td>\n",
       "      <td>0.003</td>\n",
       "      <td>0.021</td>\n",
       "      <td>0.579</td>\n",
       "      <td>0.234</td>\n",
       "    </tr>\n",
       "    <tr>\n",
       "      <th>4</th>\n",
       "      <td>0.193</td>\n",
       "      <td>0.006</td>\n",
       "      <td>0.129</td>\n",
       "      <td>0.068</td>\n",
       "      <td>0.603</td>\n",
       "    </tr>\n",
       "    <tr>\n",
       "      <th>5</th>\n",
       "      <td>0.206</td>\n",
       "      <td>0.011</td>\n",
       "      <td>0.074</td>\n",
       "      <td>0.132</td>\n",
       "      <td>0.576</td>\n",
       "    </tr>\n",
       "  </tbody>\n",
       "</table>\n",
       "</div>"
      ],
      "text/plain": [
       "    Adoption  Died  Euthanasia  Return_to_owner  Transfer\n",
       "ID                                                       \n",
       "1      0.331 0.001       0.023            0.488     0.157\n",
       "2      0.043 0.001       0.107            0.782     0.067\n",
       "3      0.163 0.003       0.021            0.579     0.234\n",
       "4      0.193 0.006       0.129            0.068     0.603\n",
       "5      0.206 0.011       0.074            0.132     0.576"
      ]
     },
     "execution_count": 51,
     "metadata": {},
     "output_type": "execute_result"
    }
   ],
   "source": [
    "#build model\n",
    "model = XGBClassifier(**indie_params)\n",
    "\n",
    "#fit model\n",
    "model.fit(X, y)\n",
    "\n",
    "#predict classes\n",
    "predict = model.predict_proba(X_TEST)\n",
    "predict = pd.DataFrame(predict) #reformat\n",
    "predict.columns = encodr.inverse_transform(predict.columns) #get field names\n",
    "predict = pd.concat([X_TEST_ids, predict], axis=1) #add IDs\n",
    "predict = predict.set_index('ID') #set index\n",
    "predict.head() #preview\n",
    "\n",
    "#save results\n",
    "predict.to_csv('xgboost_v1.csv')"
   ]
  },
  {
   "cell_type": "markdown",
   "metadata": {},
   "source": [
    "### xgboost_v2"
   ]
  },
  {
   "cell_type": "code",
   "execution_count": 55,
   "metadata": {
    "collapsed": true
   },
   "outputs": [],
   "source": [
    "#update independent parameters\n",
    "indie_params = {'objective': 'multi:softmax',\n",
    "                'learning_rate': 0.1,\n",
    "                'n_estimators': 300,\n",
    "                'max_depth': 3,\n",
    "                'min_child_weight': 5,\n",
    "                'subsample': 0.9,\n",
    "                'colsample_bytree': 0.7}"
   ]
  },
  {
   "cell_type": "code",
   "execution_count": 56,
   "metadata": {},
   "outputs": [
    {
     "data": {
      "text/html": [
       "<div>\n",
       "<style>\n",
       "    .dataframe thead tr:only-child th {\n",
       "        text-align: right;\n",
       "    }\n",
       "\n",
       "    .dataframe thead th {\n",
       "        text-align: left;\n",
       "    }\n",
       "\n",
       "    .dataframe tbody tr th {\n",
       "        vertical-align: top;\n",
       "    }\n",
       "</style>\n",
       "<table border=\"1\" class=\"dataframe\">\n",
       "  <thead>\n",
       "    <tr style=\"text-align: right;\">\n",
       "      <th></th>\n",
       "      <th>Adoption</th>\n",
       "      <th>Died</th>\n",
       "      <th>Euthanasia</th>\n",
       "      <th>Return_to_owner</th>\n",
       "      <th>Transfer</th>\n",
       "    </tr>\n",
       "    <tr>\n",
       "      <th>ID</th>\n",
       "      <th></th>\n",
       "      <th></th>\n",
       "      <th></th>\n",
       "      <th></th>\n",
       "      <th></th>\n",
       "    </tr>\n",
       "  </thead>\n",
       "  <tbody>\n",
       "    <tr>\n",
       "      <th>1</th>\n",
       "      <td>0.328</td>\n",
       "      <td>0.001</td>\n",
       "      <td>0.018</td>\n",
       "      <td>0.464</td>\n",
       "      <td>0.188</td>\n",
       "    </tr>\n",
       "    <tr>\n",
       "      <th>2</th>\n",
       "      <td>0.049</td>\n",
       "      <td>0.002</td>\n",
       "      <td>0.085</td>\n",
       "      <td>0.778</td>\n",
       "      <td>0.086</td>\n",
       "    </tr>\n",
       "    <tr>\n",
       "      <th>3</th>\n",
       "      <td>0.230</td>\n",
       "      <td>0.002</td>\n",
       "      <td>0.017</td>\n",
       "      <td>0.533</td>\n",
       "      <td>0.216</td>\n",
       "    </tr>\n",
       "    <tr>\n",
       "      <th>4</th>\n",
       "      <td>0.148</td>\n",
       "      <td>0.005</td>\n",
       "      <td>0.128</td>\n",
       "      <td>0.071</td>\n",
       "      <td>0.647</td>\n",
       "    </tr>\n",
       "    <tr>\n",
       "      <th>5</th>\n",
       "      <td>0.230</td>\n",
       "      <td>0.007</td>\n",
       "      <td>0.054</td>\n",
       "      <td>0.151</td>\n",
       "      <td>0.558</td>\n",
       "    </tr>\n",
       "  </tbody>\n",
       "</table>\n",
       "</div>"
      ],
      "text/plain": [
       "    Adoption  Died  Euthanasia  Return_to_owner  Transfer\n",
       "ID                                                       \n",
       "1      0.328 0.001       0.018            0.464     0.188\n",
       "2      0.049 0.002       0.085            0.778     0.086\n",
       "3      0.230 0.002       0.017            0.533     0.216\n",
       "4      0.148 0.005       0.128            0.071     0.647\n",
       "5      0.230 0.007       0.054            0.151     0.558"
      ]
     },
     "execution_count": 56,
     "metadata": {},
     "output_type": "execute_result"
    }
   ],
   "source": [
    "#build model\n",
    "model = XGBClassifier(**indie_params)\n",
    "\n",
    "#fit model\n",
    "model.fit(X, y)\n",
    "\n",
    "#predict classes\n",
    "predict = model.predict_proba(X_TEST)\n",
    "predict = pd.DataFrame(predict) #reformat\n",
    "predict.columns = encodr.inverse_transform(predict.columns) #get field names\n",
    "predict = pd.concat([X_TEST_ids, predict], axis=1) #add IDs\n",
    "predict = predict.set_index('ID') #set index\n",
    "predict.head() #preview\n",
    "\n",
    "#save results\n",
    "predict.to_csv('xgboost_v2.csv')"
   ]
  },
  {
   "cell_type": "markdown",
   "metadata": {},
   "source": [
    "### Add Early Stopping to Prevent Overfitting"
   ]
  },
  {
   "cell_type": "code",
   "execution_count": 59,
   "metadata": {
    "scrolled": false
   },
   "outputs": [
    {
     "name": "stdout",
     "output_type": "stream",
     "text": [
      "[0]\tvalidation_0-mlogloss:1.5296\n",
      "Will train until validation_0-mlogloss hasn't improved in 10 rounds.\n",
      "[1]\tvalidation_0-mlogloss:1.45762\n",
      "[2]\tvalidation_0-mlogloss:1.39083\n",
      "[3]\tvalidation_0-mlogloss:1.33906\n",
      "[4]\tvalidation_0-mlogloss:1.29291\n",
      "[5]\tvalidation_0-mlogloss:1.25134\n",
      "[6]\tvalidation_0-mlogloss:1.21698\n",
      "[7]\tvalidation_0-mlogloss:1.18376\n",
      "[8]\tvalidation_0-mlogloss:1.15489\n",
      "[9]\tvalidation_0-mlogloss:1.12922\n",
      "[10]\tvalidation_0-mlogloss:1.10809\n",
      "[11]\tvalidation_0-mlogloss:1.08962\n",
      "[12]\tvalidation_0-mlogloss:1.07055\n",
      "[13]\tvalidation_0-mlogloss:1.05333\n",
      "[14]\tvalidation_0-mlogloss:1.03721\n",
      "[15]\tvalidation_0-mlogloss:1.02467\n",
      "[16]\tvalidation_0-mlogloss:1.01038\n",
      "[17]\tvalidation_0-mlogloss:0.998386\n",
      "[18]\tvalidation_0-mlogloss:0.987078\n",
      "[19]\tvalidation_0-mlogloss:0.977321\n",
      "[20]\tvalidation_0-mlogloss:0.9694\n",
      "[21]\tvalidation_0-mlogloss:0.960874\n",
      "[22]\tvalidation_0-mlogloss:0.952995\n",
      "[23]\tvalidation_0-mlogloss:0.945632\n",
      "[24]\tvalidation_0-mlogloss:0.939866\n",
      "[25]\tvalidation_0-mlogloss:0.934248\n",
      "[26]\tvalidation_0-mlogloss:0.928808\n",
      "[27]\tvalidation_0-mlogloss:0.92381\n",
      "[28]\tvalidation_0-mlogloss:0.918875\n",
      "[29]\tvalidation_0-mlogloss:0.914566\n",
      "[30]\tvalidation_0-mlogloss:0.910379\n",
      "[31]\tvalidation_0-mlogloss:0.906456\n",
      "[32]\tvalidation_0-mlogloss:0.903237\n",
      "[33]\tvalidation_0-mlogloss:0.89976\n",
      "[34]\tvalidation_0-mlogloss:0.896796\n",
      "[35]\tvalidation_0-mlogloss:0.893841\n",
      "[36]\tvalidation_0-mlogloss:0.89113\n",
      "[37]\tvalidation_0-mlogloss:0.888656\n",
      "[38]\tvalidation_0-mlogloss:0.886598\n",
      "[39]\tvalidation_0-mlogloss:0.884252\n",
      "[40]\tvalidation_0-mlogloss:0.882362\n",
      "[41]\tvalidation_0-mlogloss:0.88034\n",
      "[42]\tvalidation_0-mlogloss:0.878762\n",
      "[43]\tvalidation_0-mlogloss:0.877045\n",
      "[44]\tvalidation_0-mlogloss:0.875382\n",
      "[45]\tvalidation_0-mlogloss:0.873797\n",
      "[46]\tvalidation_0-mlogloss:0.872673\n",
      "[47]\tvalidation_0-mlogloss:0.871356\n",
      "[48]\tvalidation_0-mlogloss:0.870187\n",
      "[49]\tvalidation_0-mlogloss:0.86889\n",
      "[50]\tvalidation_0-mlogloss:0.867555\n",
      "[51]\tvalidation_0-mlogloss:0.866566\n",
      "[52]\tvalidation_0-mlogloss:0.865634\n",
      "[53]\tvalidation_0-mlogloss:0.864716\n",
      "[54]\tvalidation_0-mlogloss:0.863687\n",
      "[55]\tvalidation_0-mlogloss:0.862793\n",
      "[56]\tvalidation_0-mlogloss:0.861976\n",
      "[57]\tvalidation_0-mlogloss:0.861199\n",
      "[58]\tvalidation_0-mlogloss:0.860415\n",
      "[59]\tvalidation_0-mlogloss:0.859755\n",
      "[60]\tvalidation_0-mlogloss:0.859077\n",
      "[61]\tvalidation_0-mlogloss:0.858292\n",
      "[62]\tvalidation_0-mlogloss:0.857888\n",
      "[63]\tvalidation_0-mlogloss:0.857322\n",
      "[64]\tvalidation_0-mlogloss:0.856795\n",
      "[65]\tvalidation_0-mlogloss:0.856315\n",
      "[66]\tvalidation_0-mlogloss:0.855765\n",
      "[67]\tvalidation_0-mlogloss:0.855178\n",
      "[68]\tvalidation_0-mlogloss:0.854829\n",
      "[69]\tvalidation_0-mlogloss:0.854461\n",
      "[70]\tvalidation_0-mlogloss:0.854026\n",
      "[71]\tvalidation_0-mlogloss:0.85359\n",
      "[72]\tvalidation_0-mlogloss:0.853252\n",
      "[73]\tvalidation_0-mlogloss:0.852965\n",
      "[74]\tvalidation_0-mlogloss:0.852674\n",
      "[75]\tvalidation_0-mlogloss:0.852478\n",
      "[76]\tvalidation_0-mlogloss:0.852118\n",
      "[77]\tvalidation_0-mlogloss:0.8518\n",
      "[78]\tvalidation_0-mlogloss:0.851665\n",
      "[79]\tvalidation_0-mlogloss:0.851374\n",
      "[80]\tvalidation_0-mlogloss:0.851134\n",
      "[81]\tvalidation_0-mlogloss:0.850899\n",
      "[82]\tvalidation_0-mlogloss:0.850788\n",
      "[83]\tvalidation_0-mlogloss:0.850684\n",
      "[84]\tvalidation_0-mlogloss:0.850365\n",
      "[85]\tvalidation_0-mlogloss:0.850188\n",
      "[86]\tvalidation_0-mlogloss:0.849853\n",
      "[87]\tvalidation_0-mlogloss:0.849679\n",
      "[88]\tvalidation_0-mlogloss:0.849209\n",
      "[89]\tvalidation_0-mlogloss:0.848903\n",
      "[90]\tvalidation_0-mlogloss:0.848834\n",
      "[91]\tvalidation_0-mlogloss:0.848601\n",
      "[92]\tvalidation_0-mlogloss:0.848263\n",
      "[93]\tvalidation_0-mlogloss:0.848097\n",
      "[94]\tvalidation_0-mlogloss:0.847944\n",
      "[95]\tvalidation_0-mlogloss:0.847887\n",
      "[96]\tvalidation_0-mlogloss:0.847726\n",
      "[97]\tvalidation_0-mlogloss:0.847552\n",
      "[98]\tvalidation_0-mlogloss:0.847498\n",
      "[99]\tvalidation_0-mlogloss:0.847126\n",
      "[100]\tvalidation_0-mlogloss:0.847066\n",
      "[101]\tvalidation_0-mlogloss:0.846912\n",
      "[102]\tvalidation_0-mlogloss:0.846686\n",
      "[103]\tvalidation_0-mlogloss:0.846655\n",
      "[104]\tvalidation_0-mlogloss:0.846479\n",
      "[105]\tvalidation_0-mlogloss:0.846225\n",
      "[106]\tvalidation_0-mlogloss:0.846154\n",
      "[107]\tvalidation_0-mlogloss:0.845926\n",
      "[108]\tvalidation_0-mlogloss:0.845773\n",
      "[109]\tvalidation_0-mlogloss:0.845743\n",
      "[110]\tvalidation_0-mlogloss:0.845718\n",
      "[111]\tvalidation_0-mlogloss:0.845635\n",
      "[112]\tvalidation_0-mlogloss:0.845454\n",
      "[113]\tvalidation_0-mlogloss:0.845329\n",
      "[114]\tvalidation_0-mlogloss:0.845256\n",
      "[115]\tvalidation_0-mlogloss:0.84518\n",
      "[116]\tvalidation_0-mlogloss:0.844991\n",
      "[117]\tvalidation_0-mlogloss:0.844982\n",
      "[118]\tvalidation_0-mlogloss:0.844836\n",
      "[119]\tvalidation_0-mlogloss:0.844739\n",
      "[120]\tvalidation_0-mlogloss:0.844635\n",
      "[121]\tvalidation_0-mlogloss:0.844551\n",
      "[122]\tvalidation_0-mlogloss:0.84454\n",
      "[123]\tvalidation_0-mlogloss:0.844457\n",
      "[124]\tvalidation_0-mlogloss:0.844255\n",
      "[125]\tvalidation_0-mlogloss:0.84417\n",
      "[126]\tvalidation_0-mlogloss:0.84405\n",
      "[127]\tvalidation_0-mlogloss:0.843999\n",
      "[128]\tvalidation_0-mlogloss:0.843939\n",
      "[129]\tvalidation_0-mlogloss:0.843866\n",
      "[130]\tvalidation_0-mlogloss:0.843796\n",
      "[131]\tvalidation_0-mlogloss:0.843731\n",
      "[132]\tvalidation_0-mlogloss:0.843723\n",
      "[133]\tvalidation_0-mlogloss:0.843574\n",
      "[134]\tvalidation_0-mlogloss:0.843293\n",
      "[135]\tvalidation_0-mlogloss:0.843253\n",
      "[136]\tvalidation_0-mlogloss:0.843224\n",
      "[137]\tvalidation_0-mlogloss:0.843195\n",
      "[138]\tvalidation_0-mlogloss:0.843049\n",
      "[139]\tvalidation_0-mlogloss:0.842926\n",
      "[140]\tvalidation_0-mlogloss:0.842896\n",
      "[141]\tvalidation_0-mlogloss:0.842906\n",
      "[142]\tvalidation_0-mlogloss:0.842873\n",
      "[143]\tvalidation_0-mlogloss:0.842849\n",
      "[144]\tvalidation_0-mlogloss:0.842858\n",
      "[145]\tvalidation_0-mlogloss:0.842862\n",
      "[146]\tvalidation_0-mlogloss:0.842758\n",
      "[147]\tvalidation_0-mlogloss:0.842735\n",
      "[148]\tvalidation_0-mlogloss:0.842692\n",
      "[149]\tvalidation_0-mlogloss:0.842647\n",
      "[150]\tvalidation_0-mlogloss:0.842615\n",
      "[151]\tvalidation_0-mlogloss:0.842544\n",
      "[152]\tvalidation_0-mlogloss:0.842398\n",
      "[153]\tvalidation_0-mlogloss:0.842368\n",
      "[154]\tvalidation_0-mlogloss:0.842223\n",
      "[155]\tvalidation_0-mlogloss:0.842037\n",
      "[156]\tvalidation_0-mlogloss:0.842075\n",
      "[157]\tvalidation_0-mlogloss:0.842128\n",
      "[158]\tvalidation_0-mlogloss:0.842071\n",
      "[159]\tvalidation_0-mlogloss:0.842046\n",
      "[160]\tvalidation_0-mlogloss:0.842019\n",
      "[161]\tvalidation_0-mlogloss:0.841949\n",
      "[162]\tvalidation_0-mlogloss:0.841864\n",
      "[163]\tvalidation_0-mlogloss:0.841836\n",
      "[164]\tvalidation_0-mlogloss:0.841857\n",
      "[165]\tvalidation_0-mlogloss:0.841832\n",
      "[166]\tvalidation_0-mlogloss:0.841793\n",
      "[167]\tvalidation_0-mlogloss:0.841645\n",
      "[168]\tvalidation_0-mlogloss:0.841616\n",
      "[169]\tvalidation_0-mlogloss:0.841585\n",
      "[170]\tvalidation_0-mlogloss:0.841552\n",
      "[171]\tvalidation_0-mlogloss:0.841448\n",
      "[172]\tvalidation_0-mlogloss:0.841498\n",
      "[173]\tvalidation_0-mlogloss:0.84153\n",
      "[174]\tvalidation_0-mlogloss:0.841347\n",
      "[175]\tvalidation_0-mlogloss:0.841329\n",
      "[176]\tvalidation_0-mlogloss:0.841216\n",
      "[177]\tvalidation_0-mlogloss:0.841203\n",
      "[178]\tvalidation_0-mlogloss:0.841143\n",
      "[179]\tvalidation_0-mlogloss:0.841097\n",
      "[180]\tvalidation_0-mlogloss:0.84104\n",
      "[181]\tvalidation_0-mlogloss:0.841\n",
      "[182]\tvalidation_0-mlogloss:0.841017\n",
      "[183]\tvalidation_0-mlogloss:0.841038\n",
      "[184]\tvalidation_0-mlogloss:0.841007\n",
      "[185]\tvalidation_0-mlogloss:0.841083\n",
      "[186]\tvalidation_0-mlogloss:0.840978\n",
      "[187]\tvalidation_0-mlogloss:0.840992\n",
      "[188]\tvalidation_0-mlogloss:0.840766\n",
      "[189]\tvalidation_0-mlogloss:0.840753\n",
      "[190]\tvalidation_0-mlogloss:0.840745\n",
      "[191]\tvalidation_0-mlogloss:0.840833\n",
      "[192]\tvalidation_0-mlogloss:0.840801\n",
      "[193]\tvalidation_0-mlogloss:0.840792\n",
      "[194]\tvalidation_0-mlogloss:0.840757\n",
      "[195]\tvalidation_0-mlogloss:0.840747\n",
      "[196]\tvalidation_0-mlogloss:0.840714\n",
      "[197]\tvalidation_0-mlogloss:0.84069\n",
      "[198]\tvalidation_0-mlogloss:0.840559\n",
      "[199]\tvalidation_0-mlogloss:0.840499\n",
      "[200]\tvalidation_0-mlogloss:0.840493\n",
      "[201]\tvalidation_0-mlogloss:0.840472\n",
      "[202]\tvalidation_0-mlogloss:0.84046\n",
      "[203]\tvalidation_0-mlogloss:0.840406\n",
      "[204]\tvalidation_0-mlogloss:0.840283\n",
      "[205]\tvalidation_0-mlogloss:0.840273\n",
      "[206]\tvalidation_0-mlogloss:0.840186\n",
      "[207]\tvalidation_0-mlogloss:0.840248\n",
      "[208]\tvalidation_0-mlogloss:0.840229\n",
      "[209]\tvalidation_0-mlogloss:0.840243\n",
      "[210]\tvalidation_0-mlogloss:0.84017\n",
      "[211]\tvalidation_0-mlogloss:0.840128\n",
      "[212]\tvalidation_0-mlogloss:0.840132\n",
      "[213]\tvalidation_0-mlogloss:0.840084\n",
      "[214]\tvalidation_0-mlogloss:0.839905\n",
      "[215]\tvalidation_0-mlogloss:0.839863\n",
      "[216]\tvalidation_0-mlogloss:0.839879\n",
      "[217]\tvalidation_0-mlogloss:0.83988\n",
      "[218]\tvalidation_0-mlogloss:0.839882\n",
      "[219]\tvalidation_0-mlogloss:0.83996\n",
      "[220]\tvalidation_0-mlogloss:0.839955\n",
      "[221]\tvalidation_0-mlogloss:0.839894\n",
      "[222]\tvalidation_0-mlogloss:0.839899\n",
      "[223]\tvalidation_0-mlogloss:0.839908\n"
     ]
    },
    {
     "name": "stdout",
     "output_type": "stream",
     "text": [
      "[224]\tvalidation_0-mlogloss:0.839933\n",
      "[225]\tvalidation_0-mlogloss:0.839914\n",
      "Stopping. Best iteration:\n",
      "[215]\tvalidation_0-mlogloss:0.839863\n",
      "\n"
     ]
    },
    {
     "data": {
      "text/html": [
       "<div>\n",
       "<style>\n",
       "    .dataframe thead tr:only-child th {\n",
       "        text-align: right;\n",
       "    }\n",
       "\n",
       "    .dataframe thead th {\n",
       "        text-align: left;\n",
       "    }\n",
       "\n",
       "    .dataframe tbody tr th {\n",
       "        vertical-align: top;\n",
       "    }\n",
       "</style>\n",
       "<table border=\"1\" class=\"dataframe\">\n",
       "  <thead>\n",
       "    <tr style=\"text-align: right;\">\n",
       "      <th></th>\n",
       "      <th>Adoption</th>\n",
       "      <th>Died</th>\n",
       "      <th>Euthanasia</th>\n",
       "      <th>Return_to_owner</th>\n",
       "      <th>Transfer</th>\n",
       "    </tr>\n",
       "    <tr>\n",
       "      <th>ID</th>\n",
       "      <th></th>\n",
       "      <th></th>\n",
       "      <th></th>\n",
       "      <th></th>\n",
       "      <th></th>\n",
       "    </tr>\n",
       "  </thead>\n",
       "  <tbody>\n",
       "    <tr>\n",
       "      <th>1</th>\n",
       "      <td>0.329</td>\n",
       "      <td>0.001</td>\n",
       "      <td>0.016</td>\n",
       "      <td>0.436</td>\n",
       "      <td>0.218</td>\n",
       "    </tr>\n",
       "    <tr>\n",
       "      <th>2</th>\n",
       "      <td>0.045</td>\n",
       "      <td>0.002</td>\n",
       "      <td>0.096</td>\n",
       "      <td>0.631</td>\n",
       "      <td>0.226</td>\n",
       "    </tr>\n",
       "    <tr>\n",
       "      <th>3</th>\n",
       "      <td>0.330</td>\n",
       "      <td>0.001</td>\n",
       "      <td>0.016</td>\n",
       "      <td>0.467</td>\n",
       "      <td>0.185</td>\n",
       "    </tr>\n",
       "    <tr>\n",
       "      <th>4</th>\n",
       "      <td>0.278</td>\n",
       "      <td>0.003</td>\n",
       "      <td>0.094</td>\n",
       "      <td>0.077</td>\n",
       "      <td>0.548</td>\n",
       "    </tr>\n",
       "    <tr>\n",
       "      <th>5</th>\n",
       "      <td>0.371</td>\n",
       "      <td>0.002</td>\n",
       "      <td>0.035</td>\n",
       "      <td>0.098</td>\n",
       "      <td>0.493</td>\n",
       "    </tr>\n",
       "  </tbody>\n",
       "</table>\n",
       "</div>"
      ],
      "text/plain": [
       "    Adoption  Died  Euthanasia  Return_to_owner  Transfer\n",
       "ID                                                       \n",
       "1      0.329 0.001       0.016            0.436     0.218\n",
       "2      0.045 0.002       0.096            0.631     0.226\n",
       "3      0.330 0.001       0.016            0.467     0.185\n",
       "4      0.278 0.003       0.094            0.077     0.548\n",
       "5      0.371 0.002       0.035            0.098     0.493"
      ]
     },
     "execution_count": 59,
     "metadata": {},
     "output_type": "execute_result"
    }
   ],
   "source": [
    "#build model\n",
    "model = XGBClassifier(**indie_params)\n",
    "\n",
    "#define evaluation set\n",
    "eval_set = [(X_test, y_test)]\n",
    "\n",
    "model.fit(X_train, y_train, eval_metric='mlogloss', eval_set=eval_set, early_stopping_rounds=10)\n",
    "\n",
    "#predict classes\n",
    "predict = model.predict_proba(X_TEST)\n",
    "predict = pd.DataFrame(predict) #reformat\n",
    "predict.columns = encodr.inverse_transform(predict.columns) #get field names\n",
    "predict = pd.concat([X_TEST_ids, predict], axis=1) #add IDs\n",
    "predict = predict.set_index('ID') #set index\n",
    "predict.head() #preview"
   ]
  },
  {
   "cell_type": "code",
   "execution_count": 60,
   "metadata": {
    "collapsed": true
   },
   "outputs": [],
   "source": [
    "predict.to_csv('xgboost_v3.csv')"
   ]
  }
 ],
 "metadata": {
  "kernelspec": {
   "display_name": "Python 3",
   "language": "python",
   "name": "python3"
  },
  "language_info": {
   "codemirror_mode": {
    "name": "ipython",
    "version": 3
   },
   "file_extension": ".py",
   "mimetype": "text/x-python",
   "name": "python",
   "nbconvert_exporter": "python",
   "pygments_lexer": "ipython3",
   "version": "3.6.2"
  }
 },
 "nbformat": 4,
 "nbformat_minor": 2
}
