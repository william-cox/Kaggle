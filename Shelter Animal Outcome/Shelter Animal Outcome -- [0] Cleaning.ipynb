{
 "cells": [
  {
   "cell_type": "code",
   "execution_count": 19,
   "metadata": {
    "collapsed": true
   },
   "outputs": [],
   "source": [
    "import numpy as np\n",
    "import pandas as pd\n",
    "import matplotlib.pyplot as plt\n",
    "import seaborn as sns\n",
    "sns.set_style('whitegrid')\n",
    "%matplotlib inline"
   ]
  },
  {
   "cell_type": "markdown",
   "metadata": {},
   "source": [
    "#### Load data"
   ]
  },
  {
   "cell_type": "code",
   "execution_count": 20,
   "metadata": {},
   "outputs": [
    {
     "name": "stdout",
     "output_type": "stream",
     "text": [
      "<class 'pandas.core.frame.DataFrame'>\n",
      "RangeIndex: 26729 entries, 0 to 26728\n",
      "Data columns (total 10 columns):\n",
      "AnimalID          26729 non-null object\n",
      "Name              19038 non-null object\n",
      "DateTime          26729 non-null object\n",
      "OutcomeType       26729 non-null object\n",
      "OutcomeSubtype    13117 non-null object\n",
      "AnimalType        26729 non-null object\n",
      "SexuponOutcome    26728 non-null object\n",
      "AgeuponOutcome    26711 non-null object\n",
      "Breed             26729 non-null object\n",
      "Color             26729 non-null object\n",
      "dtypes: object(10)\n",
      "memory usage: 2.0+ MB\n",
      "<class 'pandas.core.frame.DataFrame'>\n",
      "RangeIndex: 11456 entries, 0 to 11455\n",
      "Data columns (total 8 columns):\n",
      "ID                11456 non-null int64\n",
      "Name              8231 non-null object\n",
      "DateTime          11456 non-null object\n",
      "AnimalType        11456 non-null object\n",
      "SexuponOutcome    11456 non-null object\n",
      "AgeuponOutcome    11450 non-null object\n",
      "Breed             11456 non-null object\n",
      "Color             11456 non-null object\n",
      "dtypes: int64(1), object(7)\n",
      "memory usage: 716.1+ KB\n",
      "None None\n"
     ]
    }
   ],
   "source": [
    "train = pd.read_csv('train.csv')\n",
    "test  = pd.read_csv('test.csv')\n",
    "print(train.info(), test.info())"
   ]
  },
  {
   "cell_type": "markdown",
   "metadata": {},
   "source": [
    "In our training data, we are missing data for:\n",
    "    - Name -- no problem\n",
    "    - OutcomeSubtype - we will drop this field\n",
    "    - SexuponOutcome -- only 1\n",
    "    - AgeuponOutcome -- only a handful\n"
   ]
  },
  {
   "cell_type": "markdown",
   "metadata": {},
   "source": [
    "## Clean Data"
   ]
  },
  {
   "cell_type": "code",
   "execution_count": 21,
   "metadata": {
    "collapsed": true
   },
   "outputs": [],
   "source": [
    "#copy data\n",
    "df_train = train.copy()\n",
    "df_test = test.copy()"
   ]
  },
  {
   "cell_type": "markdown",
   "metadata": {},
   "source": [
    "### Clean DateTime"
   ]
  },
  {
   "cell_type": "code",
   "execution_count": 22,
   "metadata": {
    "collapsed": true
   },
   "outputs": [],
   "source": [
    "#format datetimes\n",
    "df_train.DateTime = pd.to_datetime(df_train.DateTime)\n",
    "df_test.DateTime = pd.to_datetime(df_test.DateTime)"
   ]
  },
  {
   "cell_type": "code",
   "execution_count": 23,
   "metadata": {
    "collapsed": true
   },
   "outputs": [],
   "source": [
    "#extract year\n",
    "df_train['Year'] = [x.year for x in df_train.DateTime]\n",
    "df_test['Year'] = [x.year for x in df_test.DateTime]\n",
    "\n",
    "#extract month\n",
    "df_train['Month'] = [x.month for x in df_train.DateTime]\n",
    "df_test['Month'] = [x.month for x in df_test.DateTime]"
   ]
  },
  {
   "cell_type": "markdown",
   "metadata": {},
   "source": [
    "### Named?"
   ]
  },
  {
   "cell_type": "code",
   "execution_count": 24,
   "metadata": {
    "collapsed": true
   },
   "outputs": [],
   "source": [
    "#check if named\n",
    "df_train['Named'] = df_train.Name.notnull().astype(int)\n",
    "df_test['Named'] = df_train.Name.notnull().astype(int)"
   ]
  },
  {
   "cell_type": "markdown",
   "metadata": {},
   "source": [
    "### Clean 'Sex'\n",
    "\n",
    "There is only one missing value for 'SexuponOutcome'.  Upon further investigation, that animal's name was Diego. As such, we will assume it is male."
   ]
  },
  {
   "cell_type": "code",
   "execution_count": 25,
   "metadata": {},
   "outputs": [
    {
     "data": {
      "text/html": [
       "<div>\n",
       "<style>\n",
       "    .dataframe thead tr:only-child th {\n",
       "        text-align: right;\n",
       "    }\n",
       "\n",
       "    .dataframe thead th {\n",
       "        text-align: left;\n",
       "    }\n",
       "\n",
       "    .dataframe tbody tr th {\n",
       "        vertical-align: top;\n",
       "    }\n",
       "</style>\n",
       "<table border=\"1\" class=\"dataframe\">\n",
       "  <thead>\n",
       "    <tr style=\"text-align: right;\">\n",
       "      <th></th>\n",
       "      <th>AnimalID</th>\n",
       "      <th>Name</th>\n",
       "      <th>DateTime</th>\n",
       "      <th>OutcomeType</th>\n",
       "      <th>OutcomeSubtype</th>\n",
       "      <th>AnimalType</th>\n",
       "      <th>SexuponOutcome</th>\n",
       "      <th>AgeuponOutcome</th>\n",
       "      <th>Breed</th>\n",
       "      <th>Color</th>\n",
       "      <th>Year</th>\n",
       "      <th>Month</th>\n",
       "      <th>Named</th>\n",
       "    </tr>\n",
       "  </thead>\n",
       "  <tbody>\n",
       "    <tr>\n",
       "      <th>3174</th>\n",
       "      <td>A667395</td>\n",
       "      <td>Diego</td>\n",
       "      <td>2013-11-27 16:11:00</td>\n",
       "      <td>Return_to_owner</td>\n",
       "      <td>NaN</td>\n",
       "      <td>Dog</td>\n",
       "      <td>NaN</td>\n",
       "      <td>7 years</td>\n",
       "      <td>Dachshund</td>\n",
       "      <td>Brown Merle</td>\n",
       "      <td>2013</td>\n",
       "      <td>11</td>\n",
       "      <td>1</td>\n",
       "    </tr>\n",
       "  </tbody>\n",
       "</table>\n",
       "</div>"
      ],
      "text/plain": [
       "     AnimalID   Name            DateTime      OutcomeType OutcomeSubtype  \\\n",
       "3174  A667395  Diego 2013-11-27 16:11:00  Return_to_owner            NaN   \n",
       "\n",
       "     AnimalType SexuponOutcome AgeuponOutcome      Breed        Color  Year  \\\n",
       "3174        Dog            NaN        7 years  Dachshund  Brown Merle  2013   \n",
       "\n",
       "      Month  Named  \n",
       "3174     11      1  "
      ]
     },
     "execution_count": 25,
     "metadata": {},
     "output_type": "execute_result"
    }
   ],
   "source": [
    "df_train[df_train.SexuponOutcome.isnull()]"
   ]
  },
  {
   "cell_type": "code",
   "execution_count": 26,
   "metadata": {
    "collapsed": true
   },
   "outputs": [],
   "source": [
    "#fill missing SexuponOutcome\n",
    "df_train = df_train.set_value(3174,'SexuponOutcome','Male') #name is Diego, so we assume male"
   ]
  },
  {
   "cell_type": "code",
   "execution_count": 27,
   "metadata": {
    "collapsed": true
   },
   "outputs": [],
   "source": [
    "def clean_sex(data):\n",
    "    #create features by splitting SexuponOutcome \n",
    "    data['Sex'] = data['SexuponOutcome'].str.split().str[-1]\n",
    "    data['Fixed Status'] = data['SexuponOutcome'].str.split().str[0]\n",
    "    \n",
    "    data.drop('SexuponOutcome', axis=1, inplace=True)\n",
    "    \n",
    "    #Assume no details means no surgery done\n",
    "    data['Fixed Status'] = data['Fixed Status'].str.replace('Male','Intact')\n",
    "    data['Fixed Status'] = data['Fixed Status'].str.replace('Unknown','Intact')\n",
    "    \n",
    "    return data"
   ]
  },
  {
   "cell_type": "code",
   "execution_count": 28,
   "metadata": {
    "collapsed": true
   },
   "outputs": [],
   "source": [
    "df_train = clean_sex(df_train)\n",
    "df_test = clean_sex(df_test)"
   ]
  },
  {
   "cell_type": "markdown",
   "metadata": {},
   "source": [
    "### Clean 'Age'"
   ]
  },
  {
   "cell_type": "code",
   "execution_count": 29,
   "metadata": {
    "collapsed": true
   },
   "outputs": [],
   "source": [
    "#fill in missing age field values\n",
    "df_train.AgeuponOutcome = df_train.AgeuponOutcome.fillna('1000 years') #placeholder -- 1000 is not a possible age\n",
    "df_test.AgeuponOutcome = df_test.AgeuponOutcome.fillna('1000 years')   #placeholder -- 1000 is not a possible age"
   ]
  },
  {
   "cell_type": "code",
   "execution_count": 30,
   "metadata": {
    "collapsed": true
   },
   "outputs": [],
   "source": [
    "def clean_age(row):\n",
    "    #standardizes age units to day\n",
    "    if 'year' in str(row['AgeuponOutcome'][1]):\n",
    "        return float(row['AgeuponOutcome'][0]) * 365\n",
    "    if 'month' in str(row['AgeuponOutcome'][1]):\n",
    "        return float(row['AgeuponOutcome'][0]) * 30\n",
    "    if 'week' in str(row['AgeuponOutcome'][1]):\n",
    "        return float(row['AgeuponOutcome'][0]) * 7\n",
    "    if 'day' in str(row['AgeuponOutcome'][1]):\n",
    "        return float(row['AgeuponOutcome'][0])\n",
    "    if row['AgeuponOutcome'].isnull():\n",
    "        return row['AgeuponOutcome']\n",
    "    else:\n",
    "        return np.nan"
   ]
  },
  {
   "cell_type": "code",
   "execution_count": 31,
   "metadata": {
    "collapsed": true
   },
   "outputs": [],
   "source": [
    "#prepare age\n",
    "df_train['AgeuponOutcome'] = df_train['AgeuponOutcome'].str.split()\n",
    "df_test['AgeuponOutcome'] = df_test['AgeuponOutcome'].str.split()\n",
    "\n",
    "#standardize age\n",
    "df_train['Age'] = df_train.apply(clean_age, axis=1) \n",
    "df_test['Age'] = df_test.apply(clean_age, axis=1)\n",
    "\n",
    "#convert age to year\n",
    "df_train['Age'] = df_train['Age'] / 365\n",
    "df_test['Age'] = df_test['Age'] / 365"
   ]
  },
  {
   "cell_type": "markdown",
   "metadata": {},
   "source": [
    "The test set has missing age values, which we will fix by imputing the median age."
   ]
  },
  {
   "cell_type": "code",
   "execution_count": 32,
   "metadata": {
    "collapsed": true
   },
   "outputs": [],
   "source": [
    "#test set has missing age values -- impute with median age\n",
    "\n",
    "#replace placeholders\n",
    "ages = []\n",
    "for age in df_test.Age:\n",
    "    if age > 40:\n",
    "        ages.append(df_train.Age.median())\n",
    "    else:\n",
    "        ages.append(age)\n",
    "\n",
    "df_test['Age'] = pd.Series(ages)"
   ]
  },
  {
   "cell_type": "markdown",
   "metadata": {},
   "source": [
    "### Clean Color"
   ]
  },
  {
   "cell_type": "code",
   "execution_count": 33,
   "metadata": {
    "collapsed": true
   },
   "outputs": [],
   "source": [
    "#get unique colors\n",
    "unique_colors_train = sorted(list(pd.Series([item for sublist in df_train.Color.str.split('/') for item in sublist]).unique()))\n",
    "unique_colors_train = [c.lower().replace(' ','_') for c in unique_colors_train]\n",
    "\n",
    "unique_colors_test = sorted(list(pd.Series([item for sublist in df_test.Color.str.split('/') for item in sublist]).unique()))\n",
    "unique_colors_test = [c.lower().replace(' ','_') for c in unique_colors_test]\n",
    "\n",
    "unique_colors = unique_colors_train + unique_colors_test\n",
    "unique_colors = pd.Series(unique_colors).unique()\n",
    "\n",
    "#create color features\n",
    "for color in unique_colors:\n",
    "    df_train[color] = 0\n",
    "    df_test[color] = 0"
   ]
  },
  {
   "cell_type": "code",
   "execution_count": 34,
   "metadata": {
    "collapsed": true
   },
   "outputs": [],
   "source": [
    "#clean colors\n",
    "df_train['Color'] = [color.replace(' ','_').lower().split('/') for color in df_train.Color]\n",
    "df_test['Color'] = [color.replace(' ','_').lower().split('/') for color in df_test.Color]"
   ]
  },
  {
   "cell_type": "code",
   "execution_count": 35,
   "metadata": {
    "collapsed": true
   },
   "outputs": [],
   "source": [
    "#fill features values\n",
    "for color in unique_colors:\n",
    "    \n",
    "    try:\n",
    "        df_train[color] = df_train['Color'].apply(lambda x: color in x ).astype(int)\n",
    "        df_test[color] = df_test['Color'].apply(lambda x: color in x ).astype(int)\n",
    "    except:\n",
    "        print('Error',color)"
   ]
  },
  {
   "cell_type": "markdown",
   "metadata": {},
   "source": [
    "### Clean Breed"
   ]
  },
  {
   "cell_type": "code",
   "execution_count": 36,
   "metadata": {
    "collapsed": true
   },
   "outputs": [],
   "source": [
    "def mix_test(row):\n",
    "    if 'Mix' in row['Breed']:\n",
    "        return 1\n",
    "    else:\n",
    "        return 0"
   ]
  },
  {
   "cell_type": "code",
   "execution_count": 37,
   "metadata": {
    "collapsed": true
   },
   "outputs": [],
   "source": [
    "#check if Breed included 'Mix'\n",
    "df_train['Mix'] = df_train.apply(mix_test,axis=1)\n",
    "df_test['Mix'] = df_test.apply(mix_test,axis=1)"
   ]
  },
  {
   "cell_type": "code",
   "execution_count": 38,
   "metadata": {
    "collapsed": true
   },
   "outputs": [],
   "source": [
    "#clean Breed field\n",
    "df_train['Breed'] = df_train.Breed.str.replace(' ','_').str.lower().str.strip('_mix').str.split('/')\n",
    "df_test['Breed'] = df_test.Breed.str.replace(' ','_').str.lower().str.strip('_mix').str.split('/')"
   ]
  },
  {
   "cell_type": "code",
   "execution_count": 40,
   "metadata": {
    "collapsed": true
   },
   "outputs": [],
   "source": [
    "#retrieve unique breeds\n",
    "unique_breeds_train = sorted(list(pd.Series([item for sublist in df_train.Breed for item in sublist]).unique()))\n",
    "unique_breeds_test = sorted(list(pd.Series([item for sublist in df_test.Breed for item in sublist]).unique()))\n",
    "unique_breeds = unique_breeds_train + unique_breeds_test\n",
    "unique_breeds = pd.Series(unique_breeds).unique()"
   ]
  },
  {
   "cell_type": "code",
   "execution_count": 41,
   "metadata": {
    "collapsed": true
   },
   "outputs": [],
   "source": [
    "#create empty fields for breeds\n",
    "for breed in unique_breeds:\n",
    "    df_train[breed] = 0\n",
    "    df_test[breed] = 0\n",
    "\n",
    "#check for breed\n",
    "for breed in unique_breeds:\n",
    "    df_train[breed] = df_train['Breed'].apply(lambda x: breed in x ).astype(int)\n",
    "    df_test[breed] = df_test['Breed'].apply(lambda x: breed in x ).astype(int)"
   ]
  },
  {
   "cell_type": "markdown",
   "metadata": {},
   "source": [
    "### Feature Match Sanity Check"
   ]
  },
  {
   "cell_type": "code",
   "execution_count": 42,
   "metadata": {},
   "outputs": [
    {
     "data": {
      "text/plain": [
       "['AnimalID', 'OutcomeType', 'OutcomeSubtype']"
      ]
     },
     "execution_count": 42,
     "metadata": {},
     "output_type": "execute_result"
    }
   ],
   "source": [
    "#training fields not in testing set\n",
    "mask = [x not in df_test.columns for x in df_train.columns]\n",
    "list(pd.Series(df_train.columns)[mask].values)"
   ]
  },
  {
   "cell_type": "code",
   "execution_count": 43,
   "metadata": {},
   "outputs": [
    {
     "data": {
      "text/plain": [
       "['ID']"
      ]
     },
     "execution_count": 43,
     "metadata": {},
     "output_type": "execute_result"
    }
   ],
   "source": [
    "#training fields not in testing set\n",
    "mask = [x not in df_train.columns for x in df_test.columns]\n",
    "list(pd.Series(df_test.columns)[mask].values)"
   ]
  },
  {
   "cell_type": "markdown",
   "metadata": {},
   "source": [
    "### Convert Categorical Features to Binary Fields"
   ]
  },
  {
   "cell_type": "code",
   "execution_count": 44,
   "metadata": {
    "collapsed": true
   },
   "outputs": [],
   "source": [
    "animal_train = pd.get_dummies(df_train['AnimalType'])\n",
    "animal_test = pd.get_dummies(df_test['AnimalType'])\n",
    "\n",
    "sex_train = pd.get_dummies(df_train['Sex'])\n",
    "sex_test = pd.get_dummies(df_test['Sex'])\n",
    "\n",
    "fixed_status_train = pd.get_dummies(df_train['Fixed Status'])\n",
    "fixed_status_test = pd.get_dummies(df_test['Fixed Status'])"
   ]
  },
  {
   "cell_type": "code",
   "execution_count": 45,
   "metadata": {
    "collapsed": true
   },
   "outputs": [],
   "source": [
    "df_train = pd.concat([df_train, animal_train, sex_train, fixed_status_train], axis=1)\n",
    "df_train = df_train.drop(['AnimalType','Sex','Fixed Status','Breed','Color','Name','DateTime','AgeuponOutcome'], axis=1)\n",
    "\n",
    "df_test = pd.concat([df_test, animal_test, sex_test, fixed_status_test], axis=1)\n",
    "df_test = df_test.drop(['AnimalType','Sex','Fixed Status','Breed','Color','Name','DateTime','AgeuponOutcome'], axis=1)"
   ]
  },
  {
   "cell_type": "markdown",
   "metadata": {},
   "source": [
    "## Cleaned Dataset"
   ]
  },
  {
   "cell_type": "code",
   "execution_count": 47,
   "metadata": {
    "collapsed": true
   },
   "outputs": [],
   "source": [
    "df_train.to_csv('clean_train_v2.csv')\n",
    "df_test.to_csv('clean_test_v2.csv')"
   ]
  }
 ],
 "metadata": {
  "kernelspec": {
   "display_name": "Python 3",
   "language": "python",
   "name": "python3"
  },
  "language_info": {
   "codemirror_mode": {
    "name": "ipython",
    "version": 3
   },
   "file_extension": ".py",
   "mimetype": "text/x-python",
   "name": "python",
   "nbconvert_exporter": "python",
   "pygments_lexer": "ipython3",
   "version": "3.6.2"
  }
 },
 "nbformat": 4,
 "nbformat_minor": 2
}
