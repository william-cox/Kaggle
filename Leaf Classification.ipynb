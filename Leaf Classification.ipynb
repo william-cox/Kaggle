{
 "cells": [
  {
   "cell_type": "code",
   "execution_count": 18,
   "metadata": {
    "collapsed": true
   },
   "outputs": [],
   "source": [
    "import numpy as np\n",
    "import pandas as pd\n",
    "import seaborn as sns\n",
    "sns.set_style(\"whitegrid\")\n",
    "\n",
    "import matplotlib.pyplot as plt\n",
    "%matplotlib inline\n",
    "\n",
    "from sklearn import model_selection\n",
    "from sklearn.model_selection import GridSearchCV\n",
    "from sklearn.model_selection import train_test_split\n",
    "from sklearn.preprocessing import LabelEncoder, StandardScaler\n",
    "from sklearn.decomposition import PCA"
   ]
  },
  {
   "cell_type": "markdown",
   "metadata": {},
   "source": [
    "## Prepare data"
   ]
  },
  {
   "cell_type": "code",
   "execution_count": 19,
   "metadata": {},
   "outputs": [
    {
     "name": "stdout",
     "output_type": "stream",
     "text": [
      "Loading data...\n"
     ]
    }
   ],
   "source": [
    "#load data\n",
    "print('Loading data...')\n",
    "train = pd.read_csv('./data/train.csv')\n",
    "test = pd.read_csv('./data/test.csv')"
   ]
  },
  {
   "cell_type": "code",
   "execution_count": 20,
   "metadata": {
    "collapsed": true
   },
   "outputs": [],
   "source": [
    "#preprocess data\n",
    "X = train.drop(['id','species'],axis=1)\n",
    "\n",
    "#encode target labels\n",
    "encoder = LabelEncoder()\n",
    "y = encoder.fit_transform(train.species)"
   ]
  },
  {
   "cell_type": "code",
   "execution_count": 21,
   "metadata": {
    "collapsed": true
   },
   "outputs": [],
   "source": [
    "species = list(train.species.unique())"
   ]
  },
  {
   "cell_type": "code",
   "execution_count": 22,
   "metadata": {
    "collapsed": true
   },
   "outputs": [],
   "source": [
    "#prepare data for cross-validation\n",
    "seed = 7\n",
    "\n",
    "X_train, X_test, y_train, y_test = model_selection.train_test_split(X, \n",
    "                                                                    y, \n",
    "                                                                    test_size=0.2, \n",
    "                                                                    random_state=seed,\n",
    "                                                                    stratify=y) #stratified to ensure equal class representation"
   ]
  },
  {
   "cell_type": "markdown",
   "metadata": {},
   "source": [
    "## Experiment with different models"
   ]
  },
  {
   "cell_type": "code",
   "execution_count": 23,
   "metadata": {
    "collapsed": true
   },
   "outputs": [],
   "source": [
    "from sklearn.linear_model import LogisticRegression\n",
    "from sklearn.discriminant_analysis import LinearDiscriminantAnalysis\n",
    "from sklearn.tree import DecisionTreeClassifier\n",
    "from sklearn.ensemble import RandomForestClassifier, AdaBoostClassifier, GradientBoostingClassifier\n",
    "from sklearn.neighbors import KNeighborsClassifier\n",
    "from sklearn.naive_bayes import GaussianNB\n",
    "from sklearn.svm import SVC"
   ]
  },
  {
   "cell_type": "code",
   "execution_count": 24,
   "metadata": {
    "collapsed": true
   },
   "outputs": [],
   "source": [
    "import warnings\n",
    "warnings.simplefilter(\"ignore\", UserWarning)"
   ]
  },
  {
   "cell_type": "code",
   "execution_count": 25,
   "metadata": {
    "collapsed": true
   },
   "outputs": [],
   "source": [
    "def testing_harness(X, y, k=10, subtitle='', chart=False):\n",
    "    # evaluate each model in turn\n",
    "    \n",
    "    results = []\n",
    "    names = []\n",
    "    scoring = 'accuracy'\n",
    "    \n",
    "    # prepare models\n",
    "    models = []\n",
    "\n",
    "    models.append(('LR', LogisticRegression()))\n",
    "    models.append(('LDA', LinearDiscriminantAnalysis()))\n",
    "    models.append(('KNN', KNeighborsClassifier()))\n",
    "    models.append(('CART', DecisionTreeClassifier()))\n",
    "    models.append(('RF', RandomForestClassifier(n_estimators=100)))\n",
    "    models.append(('AdaBoost',AdaBoostClassifier()))\n",
    "    #models.append(('GradientBoost',GradientBoostingClassifier()))\n",
    "    models.append(('NB', GaussianNB()))\n",
    "    #models.append(('SVM', SVC(kernel=\"rbf\", C=0.025, probability=True)))\n",
    "    \n",
    "    print('Cross-Validation Results:', subtitle)\n",
    "    print('='*30)\n",
    "    print('Model: mean (stdev)')\n",
    "    print('='*30)\n",
    "\n",
    "    #Test the performance of each model against the data, using cross-validation\n",
    "    for name, model in models:\n",
    "        kfold = model_selection.KFold(n_splits=k, random_state=seed) #prepare K-fold CV\n",
    "        cv_results = model_selection.cross_val_score(model, X, y, cv=kfold, scoring=scoring) #cross-validate model using K-fold CV\n",
    "        results.append(cv_results)\n",
    "        names.append(name)\n",
    "        msg = \"%s: %f (%f)\" % (name, cv_results.mean(), cv_results.std())\n",
    "        print(msg)\n",
    "\n",
    "    print('='*30)\n",
    "\n",
    "    \n",
    "    df = pd.DataFrame(results, names).T\n",
    "    \n",
    "    ## visualize results\n",
    "    if chart:\n",
    "        \n",
    "        summary = df.mean(axis=0).sort_values(ascending=False)\n",
    "        order = list(summary.index)\n",
    "        df = df[order]\n",
    "\n",
    "        viz = df.plot(kind='box',\n",
    "                title='Algorithm Comparison',\n",
    "                     figsize=(15,7.5))\n",
    "        viz.set_ylabel('Accuracy')\n",
    "    \n",
    "    return df\n",
    "    "
   ]
  },
  {
   "cell_type": "code",
   "execution_count": 26,
   "metadata": {},
   "outputs": [
    {
     "name": "stdout",
     "output_type": "stream",
     "text": [
      "Cross-Validation Results: \n",
      "==============================\n",
      "Model: mean (stdev)\n",
      "==============================\n",
      "LR: 0.186772 (0.044575)\n",
      "LDA: 0.970934 (0.017968)\n",
      "KNN: 0.796820 (0.039763)\n",
      "CART: 0.588402 (0.045121)\n",
      "RF: 0.963323 (0.018320)\n",
      "AdaBoost: 0.021487 (0.017023)\n",
      "NB: 0.464731 (0.047658)\n",
      "==============================\n"
     ]
    },
    {
     "data": {
      "image/png": "[encoded data removed]",
      "text/plain": [
       "<matplotlib.figure.Figure at 0x21276449cc0>"
      ]
     },
     "metadata": {},
     "output_type": "display_data"
    }
   ],
   "source": [
    "results = testing_harness(X_train, y_train)"
   ]
  },
  {
   "cell_type": "markdown",
   "metadata": {},
   "source": [
    "Linear Discriminant Analysis and Random Forest are competitive with each other in the high .9s; the rest have mixed performance.\n",
    "\n",
    "Let's try standardizing our feature set."
   ]
  },
  {
   "cell_type": "code",
   "execution_count": 27,
   "metadata": {
    "collapsed": true
   },
   "outputs": [],
   "source": [
    "#standardize feature set\n",
    "scaler = StandardScaler()\n",
    "scaler.fit(X) #fit on entire feature set\n",
    "\n",
    "X_train_std = scaler.transform(X_train)\n",
    "X_test_std = scaler.transform(X_test)"
   ]
  },
  {
   "cell_type": "code",
   "execution_count": 28,
   "metadata": {},
   "outputs": [
    {
     "name": "stdout",
     "output_type": "stream",
     "text": [
      "Cross-Validation Results: w/ Standardized\n",
      "==============================\n",
      "Model: mean (stdev)\n",
      "==============================\n",
      "LR: 0.965854 (0.013973)\n",
      "LDA: 0.970934 (0.017968)\n",
      "KNN: 0.957009 (0.018137)\n",
      "CART: 0.595918 (0.038309)\n",
      "RF: 0.963370 (0.020738)\n",
      "AdaBoost: 0.021487 (0.017023)\n",
      "NB: 0.462199 (0.049708)\n",
      "==============================\n"
     ]
    }
   ],
   "source": [
    "results_std = testing_harness(X_train_std, y_train, subtitle='w/ Standardized')"
   ]
  },
  {
   "cell_type": "code",
   "execution_count": 29,
   "metadata": {
    "collapsed": true
   },
   "outputs": [],
   "source": [
    "def prep(data):\n",
    "    data = data.T\n",
    "    \n",
    "    test = []\n",
    "    for i in range(0,10):\n",
    "        test.append(data[i])\n",
    "\n",
    "    data = pd.concat(test)\n",
    "    data = pd.DataFrame(data, columns=['accuracy'])\n",
    "    return data\n",
    "    "
   ]
  },
  {
   "cell_type": "code",
   "execution_count": 30,
   "metadata": {
    "collapsed": true
   },
   "outputs": [],
   "source": [
    "res = prep(results)\n",
    "res['name'] = 'Baseline'\n",
    "res = res.reset_index()\n",
    "\n",
    "res_std= prep(results_std)\n",
    "res_std['name'] = 'Standardized'\n",
    "res_std = res_std.reset_index()\n",
    "\n",
    "results_ = pd.concat([res, res_std])"
   ]
  },
  {
   "cell_type": "code",
   "execution_count": 32,
   "metadata": {},
   "outputs": [
    {
     "data": {
      "text/plain": [
       "<matplotlib.text.Text at 0x21272be8940>"
      ]
     },
     "execution_count": 32,
     "metadata": {},
     "output_type": "execute_result"
    },
    {
     "data": {
      "image/png": "[encoded data removed]",
      "text/plain": [
       "<matplotlib.figure.Figure at 0x21273f06d30>"
      ]
     },
     "metadata": {},
     "output_type": "display_data"
    }
   ],
   "source": [
    "fig, ax = plt.subplots(figsize=(15,7.5))\n",
    "\n",
    "sns.boxplot(x='index',y='accuracy',data=results_, hue=\"name\", palette='muted',ax=ax)\n",
    "ax.set_title('Model Accuracy: Before/After Feature Standardization')"
   ]
  },
  {
   "cell_type": "markdown",
   "metadata": {},
   "source": [
    "Most of the models benefitted from standardizing the dataset, but Logistic Regression experienced significant gains in accuracy.  \n",
    "\n",
    "We will take a deeper look at the top three models: Random Forest, Linear Discriminant Analysis, and Logistic Regression."
   ]
  },
  {
   "cell_type": "markdown",
   "metadata": {},
   "source": [
    "#### Logistic Regression"
   ]
  },
  {
   "cell_type": "code",
   "execution_count": 33,
   "metadata": {},
   "outputs": [
    {
     "name": "stdout",
     "output_type": "stream",
     "text": [
      "==============================\n",
      "LogisticRegression\n",
      "{'C': 10, 'penalty': 'l2'}\n",
      "Accuracy: 0.969696969697\n",
      "==============================\n"
     ]
    }
   ],
   "source": [
    "clf = LogisticRegression(n_jobs=2)\n",
    "\n",
    "param_grid = {\n",
    "    'penalty': ['l1','l2'],\n",
    "    'C': [0.001 , 0.01 , 0.1 , 1 , 10, 100]\n",
    "}\n",
    "\n",
    "CV_rfc = GridSearchCV(estimator=clf, param_grid=param_grid, cv= 5)\n",
    "CV_rfc.fit(X_train_std, y_train)\n",
    "\n",
    "parems = CV_rfc.best_params_\n",
    "\n",
    "print('='*30)\n",
    "print(clf.__class__.__name__)\n",
    "print(parems)\n",
    "\n",
    "LR = LogisticRegression(n_jobs=2, penalty=parems['penalty'], C=parems['C'])\n",
    "LR.fit(X_train_std, y_train)\n",
    "preds = LR.predict(X_test_std)\n",
    "accuracy = sum(preds == y_test) / len(y_test)\n",
    "print('Accuracy:', accuracy)\n",
    "print('='*30)"
   ]
  },
  {
   "cell_type": "markdown",
   "metadata": {},
   "source": [
    "#### Random Forest"
   ]
  },
  {
   "cell_type": "code",
   "execution_count": 34,
   "metadata": {},
   "outputs": [
    {
     "name": "stdout",
     "output_type": "stream",
     "text": [
      "==============================\n",
      "RandomForestClassifier\n",
      "{'max_features': 'sqrt', 'n_estimators': 700}\n",
      "Accuracy: 0.979797979798\n",
      "==============================\n"
     ]
    }
   ],
   "source": [
    "clf = RandomForestClassifier(n_jobs=2, n_estimators=100) \n",
    "\n",
    "param_grid = { \n",
    "    'n_estimators': [200, 700],\n",
    "    'max_features': ['auto', 'sqrt', 'log2']\n",
    "}\n",
    "\n",
    "CV_rfc = GridSearchCV(estimator=clf, param_grid=param_grid, cv= 5)\n",
    "CV_rfc.fit(X_train_std, y_train)\n",
    "\n",
    "parems = CV_rfc.best_params_\n",
    "\n",
    "print('='*30)\n",
    "print(clf.__class__.__name__)\n",
    "print(parems)\n",
    "\n",
    "RF = RandomForestClassifier(n_jobs=2, max_features= parems['max_features'] ,n_estimators=parems['n_estimators'])\n",
    "RF.fit(X_train_std, y_train)\n",
    "preds = RF.predict(X_test_std)\n",
    "accuracy = sum(preds == y_test) / len(y_test)\n",
    "print('Accuracy:', accuracy)\n",
    "print('='*30)"
   ]
  },
  {
   "cell_type": "markdown",
   "metadata": {},
   "source": [
    "#### Linear Discriminant Analysis"
   ]
  },
  {
   "cell_type": "code",
   "execution_count": 35,
   "metadata": {},
   "outputs": [
    {
     "name": "stdout",
     "output_type": "stream",
     "text": [
      "==============================\n",
      "LinearDiscriminantAnalysis\n",
      "{'solver': 'svd'}\n",
      "Accuracy: 0.979797979798\n",
      "==============================\n"
     ]
    }
   ],
   "source": [
    "clf = LinearDiscriminantAnalysis()\n",
    "\n",
    "param_grid = {\n",
    "    'solver': ['svd','lsqr','eigen']\n",
    "}\n",
    "\n",
    "CV_rfc = GridSearchCV(estimator=clf, param_grid=param_grid, cv= 5)\n",
    "CV_rfc.fit(X_train_std, y_train)\n",
    "\n",
    "parems = CV_rfc.best_params_\n",
    "\n",
    "print('='*30)\n",
    "print(clf.__class__.__name__)\n",
    "print(parems)\n",
    "\n",
    "LDA = LinearDiscriminantAnalysis(solver=parems['solver'])\n",
    "LDA.fit(X_train_std, y_train)\n",
    "preds = LDA.predict(X_test_std)\n",
    "accuracy = sum(preds == y_test) / len(y_test)\n",
    "print('Accuracy:', accuracy)\n",
    "print('='*30)"
   ]
  },
  {
   "cell_type": "markdown",
   "metadata": {},
   "source": [
    "Random Forest and LDA have about the same accuracy, and both slightly out-perform Logistic Regression."
   ]
  },
  {
   "cell_type": "markdown",
   "metadata": {},
   "source": [
    "### PCA Analysis"
   ]
  },
  {
   "cell_type": "code",
   "execution_count": 36,
   "metadata": {
    "collapsed": true
   },
   "outputs": [],
   "source": [
    "#standardize feature set\n",
    "scaler = StandardScaler()\n",
    "\n",
    "#fit on entire feature set\n",
    "X_std = scaler.fit_transform(X)"
   ]
  },
  {
   "cell_type": "code",
   "execution_count": 37,
   "metadata": {},
   "outputs": [
    {
     "data": {
      "text/plain": [
       "<matplotlib.lines.Line2D at 0x21272de6390>"
      ]
     },
     "execution_count": 37,
     "metadata": {},
     "output_type": "execute_result"
    },
    {
     "data": {
      "image/png": "[encoded data removed]",
      "text/plain": [
       "<matplotlib.figure.Figure at 0x21272de64e0>"
      ]
     },
     "metadata": {},
     "output_type": "display_data"
    }
   ],
   "source": [
    "pca = PCA()\n",
    "pca.fit_transform(X_std)\n",
    "\n",
    "viz = pd.Series(pca.explained_variance_ratio_.cumsum()).plot()\n",
    "#viz.set_title('Cumulative Variance Explained')\n",
    "viz.set_ylabel('Cummulative Variance Explained')\n",
    "viz.set_xlabel('Principal Components')\n",
    "viz.axhline(y=.9,c='r') #k threshold at 90%"
   ]
  },
  {
   "cell_type": "code",
   "execution_count": 38,
   "metadata": {
    "collapsed": true
   },
   "outputs": [],
   "source": [
    "pca = PCA(n_components=44)\n",
    "X_reduced = pca.fit_transform(X_std)"
   ]
  },
  {
   "cell_type": "code",
   "execution_count": 39,
   "metadata": {
    "collapsed": true
   },
   "outputs": [],
   "source": [
    "#prepare data for cross-validation\n",
    "seed = 7\n",
    "\n",
    "Xpca_train, Xpca_test, ypca_train, ypca_test = model_selection.train_test_split(X_reduced, \n",
    "                                                                                y,\n",
    "                                                                                test_size=0.2,\n",
    "                                                                                random_state=seed,\n",
    "                                                                                stratify=y) #stratified to ensure equal class representation"
   ]
  },
  {
   "cell_type": "code",
   "execution_count": 40,
   "metadata": {},
   "outputs": [
    {
     "name": "stdout",
     "output_type": "stream",
     "text": [
      "==============================\n",
      "RandomForestClassifier\n",
      "{'max_features': 'auto', 'n_estimators': 200}\n",
      "Accuracy: 0.984848484848\n",
      "==============================\n"
     ]
    }
   ],
   "source": [
    "clf = RandomForestClassifier(n_jobs=2, n_estimators=100) \n",
    "\n",
    "param_grid = { \n",
    "    'n_estimators': [200, 700],\n",
    "    'max_features': ['auto', 'sqrt', 'log2']\n",
    "}\n",
    "\n",
    "CV_rfc = GridSearchCV(estimator=clf, param_grid=param_grid, cv= 5)\n",
    "CV_rfc.fit(Xpca_train, ypca_train)\n",
    "\n",
    "parems = CV_rfc.best_params_\n",
    "print('='*30)\n",
    "print(clf.__class__.__name__)\n",
    "print(parems)\n",
    "\n",
    "RF = RandomForestClassifier(n_jobs=2, max_features= parems['max_features'] ,n_estimators=parems['n_estimators'])\n",
    "RF.fit(Xpca_train, ypca_train)\n",
    "preds = RF.predict(Xpca_test)\n",
    "accuracy = sum(preds == ypca_test) / len(ypca_test)\n",
    "print('Accuracy:', accuracy)\n",
    "print('='*30)"
   ]
  },
  {
   "cell_type": "code",
   "execution_count": 41,
   "metadata": {},
   "outputs": [
    {
     "name": "stdout",
     "output_type": "stream",
     "text": [
      "==============================\n",
      "LinearDiscriminantAnalysis\n",
      "{'solver': 'svd'}\n",
      "Accuracy: 0.979797979798\n",
      "==============================\n"
     ]
    }
   ],
   "source": [
    "clf = LinearDiscriminantAnalysis()\n",
    "\n",
    "param_grid = {\n",
    "    'solver': ['svd','lsqr','eigen']\n",
    "}\n",
    "\n",
    "CV_rfc = GridSearchCV(estimator=clf, param_grid=param_grid, cv= 5)\n",
    "CV_rfc.fit(Xpca_train, ypca_train)\n",
    "\n",
    "parems = CV_rfc.best_params_\n",
    "\n",
    "print('='*30)\n",
    "print(clf.__class__.__name__)\n",
    "print(parems)\n",
    "\n",
    "LDA = LinearDiscriminantAnalysis(solver=parems['solver'])\n",
    "LDA.fit(Xpca_train, ypca_train)\n",
    "preds = LDA.predict(Xpca_test)\n",
    "accuracy = sum(preds == ypca_test) / len(ypca_test)\n",
    "print('Accuracy:', accuracy)\n",
    "print('='*30)"
   ]
  },
  {
   "cell_type": "markdown",
   "metadata": {},
   "source": [
    "PCA on its own yielded no extra accuracy. Let's try it with the original features."
   ]
  },
  {
   "cell_type": "code",
   "execution_count": 42,
   "metadata": {
    "collapsed": true
   },
   "outputs": [],
   "source": [
    "df = pd.concat([pd.DataFrame(X_std),pd.DataFrame(X_reduced)], axis=1)"
   ]
  },
  {
   "cell_type": "code",
   "execution_count": 43,
   "metadata": {
    "collapsed": true
   },
   "outputs": [],
   "source": [
    "#prepare data for cross-validation\n",
    "seed = 7\n",
    "\n",
    "XX_train, XX_test, yy_train, yy_test = model_selection.train_test_split(df, \n",
    "                                                                                y,\n",
    "                                                                                test_size=0.2,\n",
    "                                                                                random_state=seed,\n",
    "                                                                                stratify=y) #stratified to ensure equal class representation"
   ]
  },
  {
   "cell_type": "code",
   "execution_count": 44,
   "metadata": {},
   "outputs": [
    {
     "name": "stdout",
     "output_type": "stream",
     "text": [
      "==============================\n",
      "RandomForestClassifier\n",
      "{'max_features': 'log2', 'n_estimators': 700}\n",
      "Accuracy: 0.984848484848\n",
      "==============================\n"
     ]
    }
   ],
   "source": [
    "clf = RandomForestClassifier(n_jobs=2, n_estimators=100) \n",
    "\n",
    "param_grid = { \n",
    "    'n_estimators': [200, 700],\n",
    "    'max_features': ['auto', 'sqrt', 'log2']\n",
    "}\n",
    "\n",
    "CV_rfc = GridSearchCV(estimator=clf, param_grid=param_grid, cv= 5)\n",
    "CV_rfc.fit(XX_train, yy_train)\n",
    "\n",
    "parems = CV_rfc.best_params_\n",
    "\n",
    "print('='*30)\n",
    "print(clf.__class__.__name__)\n",
    "print(parems)\n",
    "\n",
    "RF = RandomForestClassifier(n_jobs=2, max_features= parems['max_features'] ,n_estimators=parems['n_estimators'])\n",
    "RF.fit(XX_train, yy_train)\n",
    "preds = RF.predict(XX_test)\n",
    "accuracy = sum(preds == yy_test) / len(yy_test)\n",
    "print('Accuracy:', accuracy)\n",
    "print('='*30)"
   ]
  },
  {
   "cell_type": "markdown",
   "metadata": {},
   "source": [
    "Adding the Principal Components as new features to the standardized original dataset led to a small increase in accuracy.\n",
    "\n",
    "Let's make a prediction."
   ]
  },
  {
   "cell_type": "code",
   "execution_count": null,
   "metadata": {
    "collapsed": true
   },
   "outputs": [],
   "source": [
    "#preprocess data\n",
    "X_Test = test.drop(['id'],axis=1)\n",
    "ids = test['id']"
   ]
  },
  {
   "cell_type": "code",
   "execution_count": null,
   "metadata": {
    "collapsed": true
   },
   "outputs": [],
   "source": [
    "#standardize feature set\n",
    "scaler = StandardScaler()\n",
    "X_Test= scaler.fit_transform(X_Test)"
   ]
  },
  {
   "cell_type": "code",
   "execution_count": null,
   "metadata": {
    "collapsed": true
   },
   "outputs": [],
   "source": [
    "pca = PCA(n_components=44)\n",
    "X_Test_pca = pca.fit_transform(X_Test)"
   ]
  },
  {
   "cell_type": "code",
   "execution_count": null,
   "metadata": {
    "collapsed": true
   },
   "outputs": [],
   "source": [
    "df_test = pd.concat([pd.DataFrame(X_Test),pd.DataFrame(X_Test_pca)], axis=1)"
   ]
  },
  {
   "cell_type": "code",
   "execution_count": null,
   "metadata": {
    "collapsed": true
   },
   "outputs": [],
   "source": [
    "RF = RandomForestClassifier(n_jobs=2, max_features= parems['max_features'] ,n_estimators=parems['n_estimators'])\n",
    "RF.fit(df, y)\n",
    "preds = RF.predict(df_test)\n",
    "pred_prob = RF.predict_proba(df_test)"
   ]
  },
  {
   "cell_type": "code",
   "execution_count": null,
   "metadata": {},
   "outputs": [],
   "source": [
    "result = pd.concat([pd.Series(ids), pd.DataFrame(pred_prob)], axis=1)\n",
    "result = result.set_index('id')\n",
    "result.columns = species\n",
    "result.head()"
   ]
  },
  {
   "cell_type": "code",
   "execution_count": 33,
   "metadata": {
    "collapsed": true
   },
   "outputs": [],
   "source": [
    "from time import localtime, strftime\n",
    "t = strftime(\"%Y_%m_%d_%H_%M_%S\", localtime())\n",
    "filename = 'results_'+t+'.csv'\n",
    "\n",
    "result.to_csv(filename)"
   ]
  }
 ],
 "metadata": {
  "kernelspec": {
   "display_name": "Python 3",
   "language": "python",
   "name": "python3"
  },
  "language_info": {
   "codemirror_mode": {
    "name": "ipython",
    "version": 3
   },
   "file_extension": ".py",
   "mimetype": "text/x-python",
   "name": "python",
   "nbconvert_exporter": "python",
   "pygments_lexer": "ipython3",
   "version": "3.6.2"
  }
 },
 "nbformat": 4,
 "nbformat_minor": 2
}
